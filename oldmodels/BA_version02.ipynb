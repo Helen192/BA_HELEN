{
  "cells": [
    {
      "cell_type": "code",
      "execution_count": 2,
      "metadata": {
        "id": "jqULf_BbUlLa"
      },
      "outputs": [],
      "source": [
        "import numpy as np\n",
        "import pandas as pd\n",
        "import matplotlib.pyplot as plt\n",
        "import seaborn as sns\n",
        "from sklearn.metrics import classification_report, roc_auc_score\n",
        "\n",
        "import tensorflow as tf\n",
        "from tensorflow.keras import Model, Sequential\n",
        "from tensorflow.keras.layers import Dense, Dropout"
      ]
    },
    {
      "attachments": {},
      "cell_type": "markdown",
      "metadata": {
        "id": "71lljZZrV_mS"
      },
      "source": [
        "# 1. GETTING DATA\n",
        "\n",
        "Dataset includes:\n",
        "\n",
        "* `x` : training data (all are normal samples)\n",
        "* `tx` : test data samples (some normal, some abnormal)\n",
        "* `ty` : tells you which are normal and which are not.\n",
        "  * our autoencoder would reconstruct every sample with\n",
        "ty=0 very well, and make mistakes when ty=1"
      ]
    },
    {
      "cell_type": "code",
      "execution_count": 2,
      "metadata": {
        "colab": {
          "base_uri": "https://localhost:8080/",
          "height": 73
        },
        "id": "O2bNgxgrUqG3",
        "outputId": "51249d2b-2232-4c32-9fb6-2b279249e48c"
      },
      "outputs": [
        {
          "data": {
            "text/html": [
              "\n",
              "     <input type=\"file\" id=\"files-9b8d6c9f-9c8e-40b4-a579-3e3416f8a19c\" name=\"files[]\" multiple disabled\n",
              "        style=\"border:none\" />\n",
              "     <output id=\"result-9b8d6c9f-9c8e-40b4-a579-3e3416f8a19c\">\n",
              "      Upload widget is only available when the cell has been executed in the\n",
              "      current browser session. Please rerun this cell to enable.\n",
              "      </output>\n",
              "      <script>// Copyright 2017 Google LLC\n",
              "//\n",
              "// Licensed under the Apache License, Version 2.0 (the \"License\");\n",
              "// you may not use this file except in compliance with the License.\n",
              "// You may obtain a copy of the License at\n",
              "//\n",
              "//      http://www.apache.org/licenses/LICENSE-2.0\n",
              "//\n",
              "// Unless required by applicable law or agreed to in writing, software\n",
              "// distributed under the License is distributed on an \"AS IS\" BASIS,\n",
              "// WITHOUT WARRANTIES OR CONDITIONS OF ANY KIND, either express or implied.\n",
              "// See the License for the specific language governing permissions and\n",
              "// limitations under the License.\n",
              "\n",
              "/**\n",
              " * @fileoverview Helpers for google.colab Python module.\n",
              " */\n",
              "(function(scope) {\n",
              "function span(text, styleAttributes = {}) {\n",
              "  const element = document.createElement('span');\n",
              "  element.textContent = text;\n",
              "  for (const key of Object.keys(styleAttributes)) {\n",
              "    element.style[key] = styleAttributes[key];\n",
              "  }\n",
              "  return element;\n",
              "}\n",
              "\n",
              "// Max number of bytes which will be uploaded at a time.\n",
              "const MAX_PAYLOAD_SIZE = 100 * 1024;\n",
              "\n",
              "function _uploadFiles(inputId, outputId) {\n",
              "  const steps = uploadFilesStep(inputId, outputId);\n",
              "  const outputElement = document.getElementById(outputId);\n",
              "  // Cache steps on the outputElement to make it available for the next call\n",
              "  // to uploadFilesContinue from Python.\n",
              "  outputElement.steps = steps;\n",
              "\n",
              "  return _uploadFilesContinue(outputId);\n",
              "}\n",
              "\n",
              "// This is roughly an async generator (not supported in the browser yet),\n",
              "// where there are multiple asynchronous steps and the Python side is going\n",
              "// to poll for completion of each step.\n",
              "// This uses a Promise to block the python side on completion of each step,\n",
              "// then passes the result of the previous step as the input to the next step.\n",
              "function _uploadFilesContinue(outputId) {\n",
              "  const outputElement = document.getElementById(outputId);\n",
              "  const steps = outputElement.steps;\n",
              "\n",
              "  const next = steps.next(outputElement.lastPromiseValue);\n",
              "  return Promise.resolve(next.value.promise).then((value) => {\n",
              "    // Cache the last promise value to make it available to the next\n",
              "    // step of the generator.\n",
              "    outputElement.lastPromiseValue = value;\n",
              "    return next.value.response;\n",
              "  });\n",
              "}\n",
              "\n",
              "/**\n",
              " * Generator function which is called between each async step of the upload\n",
              " * process.\n",
              " * @param {string} inputId Element ID of the input file picker element.\n",
              " * @param {string} outputId Element ID of the output display.\n",
              " * @return {!Iterable<!Object>} Iterable of next steps.\n",
              " */\n",
              "function* uploadFilesStep(inputId, outputId) {\n",
              "  const inputElement = document.getElementById(inputId);\n",
              "  inputElement.disabled = false;\n",
              "\n",
              "  const outputElement = document.getElementById(outputId);\n",
              "  outputElement.innerHTML = '';\n",
              "\n",
              "  const pickedPromise = new Promise((resolve) => {\n",
              "    inputElement.addEventListener('change', (e) => {\n",
              "      resolve(e.target.files);\n",
              "    });\n",
              "  });\n",
              "\n",
              "  const cancel = document.createElement('button');\n",
              "  inputElement.parentElement.appendChild(cancel);\n",
              "  cancel.textContent = 'Cancel upload';\n",
              "  const cancelPromise = new Promise((resolve) => {\n",
              "    cancel.onclick = () => {\n",
              "      resolve(null);\n",
              "    };\n",
              "  });\n",
              "\n",
              "  // Wait for the user to pick the files.\n",
              "  const files = yield {\n",
              "    promise: Promise.race([pickedPromise, cancelPromise]),\n",
              "    response: {\n",
              "      action: 'starting',\n",
              "    }\n",
              "  };\n",
              "\n",
              "  cancel.remove();\n",
              "\n",
              "  // Disable the input element since further picks are not allowed.\n",
              "  inputElement.disabled = true;\n",
              "\n",
              "  if (!files) {\n",
              "    return {\n",
              "      response: {\n",
              "        action: 'complete',\n",
              "      }\n",
              "    };\n",
              "  }\n",
              "\n",
              "  for (const file of files) {\n",
              "    const li = document.createElement('li');\n",
              "    li.append(span(file.name, {fontWeight: 'bold'}));\n",
              "    li.append(span(\n",
              "        `(${file.type || 'n/a'}) - ${file.size} bytes, ` +\n",
              "        `last modified: ${\n",
              "            file.lastModifiedDate ? file.lastModifiedDate.toLocaleDateString() :\n",
              "                                    'n/a'} - `));\n",
              "    const percent = span('0% done');\n",
              "    li.appendChild(percent);\n",
              "\n",
              "    outputElement.appendChild(li);\n",
              "\n",
              "    const fileDataPromise = new Promise((resolve) => {\n",
              "      const reader = new FileReader();\n",
              "      reader.onload = (e) => {\n",
              "        resolve(e.target.result);\n",
              "      };\n",
              "      reader.readAsArrayBuffer(file);\n",
              "    });\n",
              "    // Wait for the data to be ready.\n",
              "    let fileData = yield {\n",
              "      promise: fileDataPromise,\n",
              "      response: {\n",
              "        action: 'continue',\n",
              "      }\n",
              "    };\n",
              "\n",
              "    // Use a chunked sending to avoid message size limits. See b/62115660.\n",
              "    let position = 0;\n",
              "    do {\n",
              "      const length = Math.min(fileData.byteLength - position, MAX_PAYLOAD_SIZE);\n",
              "      const chunk = new Uint8Array(fileData, position, length);\n",
              "      position += length;\n",
              "\n",
              "      const base64 = btoa(String.fromCharCode.apply(null, chunk));\n",
              "      yield {\n",
              "        response: {\n",
              "          action: 'append',\n",
              "          file: file.name,\n",
              "          data: base64,\n",
              "        },\n",
              "      };\n",
              "\n",
              "      let percentDone = fileData.byteLength === 0 ?\n",
              "          100 :\n",
              "          Math.round((position / fileData.byteLength) * 100);\n",
              "      percent.textContent = `${percentDone}% done`;\n",
              "\n",
              "    } while (position < fileData.byteLength);\n",
              "  }\n",
              "\n",
              "  // All done.\n",
              "  yield {\n",
              "    response: {\n",
              "      action: 'complete',\n",
              "    }\n",
              "  };\n",
              "}\n",
              "\n",
              "scope.google = scope.google || {};\n",
              "scope.google.colab = scope.google.colab || {};\n",
              "scope.google.colab._files = {\n",
              "  _uploadFiles,\n",
              "  _uploadFilesContinue,\n",
              "};\n",
              "})(self);\n",
              "</script> "
            ],
            "text/plain": [
              "<IPython.core.display.HTML object>"
            ]
          },
          "metadata": {},
          "output_type": "display_data"
        },
        {
          "name": "stdout",
          "output_type": "stream",
          "text": [
            "Saving cardio.npz to cardio.npz\n"
          ]
        }
      ],
      "source": [
        "# This code allows us to upload data from local drive\n",
        "#from google.colab import files\n",
        "#uploaded = files.upload()"
      ]
    },
    {
      "cell_type": "code",
      "execution_count": 3,
      "metadata": {
        "id": "smXwGjQmWJDW"
      },
      "outputs": [],
      "source": [
        "data = np.load('../data/cardio.npz')"
      ]
    },
    {
      "cell_type": "code",
      "execution_count": 6,
      "metadata": {
        "id": "RM4LNk1ZWPBU"
      },
      "outputs": [],
      "source": [
        "X_train = data['x']\n",
        "X_test = data['tx']\n",
        "y_test= data['ty']"
      ]
    },
    {
      "cell_type": "code",
      "execution_count": 7,
      "metadata": {
        "colab": {
          "base_uri": "https://localhost:8080/"
        },
        "id": "y4LYbRiYWRVf",
        "outputId": "e6467c49-3d92-4c27-b016-8bf94890be0e"
      },
      "outputs": [
        {
          "data": {
            "text/plain": [
              "array([[ 1.69798491, -0.91998844, -0.20364049, ...,  1.67981029,\n",
              "        -0.69058975, -0.49329397],\n",
              "       [ 0.85144861, -0.91998844, -0.20364049, ...,  0.57633422,\n",
              "        -0.62378908, -0.49329397],\n",
              "       [-2.11142843, -0.18061463, -0.20364049, ..., -1.56165067,\n",
              "        -0.59038875, -2.12660547],\n",
              "       ...,\n",
              "       [ 1.27471676, -0.91998844, -0.20364049, ...,  0.85220324,\n",
              "        -0.62378908,  1.14001753],\n",
              "       [ 1.27471676,  1.71403076, -0.04677629, ...,  1.26600677,\n",
              "        -0.49018775,  1.14001753],\n",
              "       [ 0.5339975 ,  1.17365699, -0.18424532, ...,  0.99013775,\n",
              "         1.1464286 ,  1.14001753]])"
            ]
          },
          "execution_count": 7,
          "metadata": {},
          "output_type": "execute_result"
        }
      ],
      "source": [
        "X_train"
      ]
    },
    {
      "cell_type": "code",
      "execution_count": 72,
      "metadata": {
        "colab": {
          "base_uri": "https://localhost:8080/"
        },
        "id": "09xLt-WSWULm",
        "outputId": "4957d7c6-19ab-407b-bed4-5536c41198f9"
      },
      "outputs": [
        {
          "data": {
            "text/plain": [
              "(1479, 21)"
            ]
          },
          "execution_count": 72,
          "metadata": {},
          "output_type": "execute_result"
        }
      ],
      "source": [
        "X_train.shape"
      ]
    },
    {
      "cell_type": "code",
      "execution_count": 74,
      "metadata": {
        "colab": {
          "base_uri": "https://localhost:8080/"
        },
        "id": "YGJmgQlgWW6I",
        "outputId": "09aab1b5-88fd-4e6a-f768-f1d04bc8f7ad"
      },
      "outputs": [
        {
          "data": {
            "text/plain": [
              "(352, 21)"
            ]
          },
          "execution_count": 74,
          "metadata": {},
          "output_type": "execute_result"
        }
      ],
      "source": [
        "X_test.shape"
      ]
    },
    {
      "cell_type": "code",
      "execution_count": 75,
      "metadata": {
        "colab": {
          "base_uri": "https://localhost:8080/"
        },
        "id": "abTO_GEiWaUq",
        "outputId": "74151911-d8ff-493d-a15b-255350eaf677"
      },
      "outputs": [
        {
          "data": {
            "text/plain": [
              "-3.0048923462960526"
            ]
          },
          "execution_count": 75,
          "metadata": {},
          "output_type": "execute_result"
        }
      ],
      "source": [
        "X_train.min()"
      ]
    },
    {
      "cell_type": "code",
      "execution_count": 76,
      "metadata": {
        "colab": {
          "base_uri": "https://localhost:8080/"
        },
        "id": "_KFstw56WgGm",
        "outputId": "dc7d7158-f17b-4d18-d561-0793259bfb80"
      },
      "outputs": [
        {
          "data": {
            "text/plain": [
              "14.025335380634532"
            ]
          },
          "execution_count": 76,
          "metadata": {},
          "output_type": "execute_result"
        }
      ],
      "source": [
        "X_train.max()"
      ]
    },
    {
      "attachments": {},
      "cell_type": "markdown",
      "metadata": {
        "id": "sCcI6XdKWo9z"
      },
      "source": [
        "# 2. Feature scaling\n",
        "- Using MinMaxScaler() in Scikit-learn to scale data"
      ]
    },
    {
      "cell_type": "code",
      "execution_count": 77,
      "metadata": {
        "id": "z-7vjDX-XLjp"
      },
      "outputs": [],
      "source": [
        "from sklearn.preprocessing import MinMaxScaler\n",
        "scaler = MinMaxScaler(feature_range=(0, 1))\n",
        "X_train_scaled = scaler.fit_transform(X_train.copy())\n",
        "X_test_scaled = scaler.transform(X_test.copy())"
      ]
    },
    {
      "attachments": {},
      "cell_type": "markdown",
      "metadata": {
        "id": "pGDJYFHpYKr6"
      },
      "source": [
        "# 3. Create Autoencoder Model"
      ]
    },
    {
      "cell_type": "code",
      "execution_count": 78,
      "metadata": {
        "id": "VSpHn1aEbU6R"
      },
      "outputs": [],
      "source": [
        "# Create a model by subclassing Model class in tensorflow\n",
        "class Autoencoder(Model):\n",
        "  \"\"\"\n",
        "  An autoencoder with Encoder and decoder blocks\n",
        "  \n",
        "  Arguments:\n",
        "    input_dim -- number of NN units at layer 0 (input)\n",
        "         \n",
        "  Returns: \n",
        "    autoencoder -- autoencoder Model\n",
        "  \"\"\"\n",
        "\n",
        "  def __init__(self, input_dim):\n",
        "    super().__init__()\n",
        "    # encoder block\n",
        "    self.encoder = Sequential([\n",
        "        Dense(64, activation='relu'),\n",
        "        Dropout(0.1),\n",
        "        Dense(32, activation='relu'),\n",
        "        Dropout(0.1),\n",
        "        Dense(16, activation='relu'),\n",
        "        Dropout(0.1),\n",
        "        Dense(8, activation='relu')\n",
        "    ])\n",
        "    # Decoder block\n",
        "    self.decoder = Sequential([\n",
        "        Dense(16, activation='relu'),\n",
        "        Dropout(0.1),\n",
        "        Dense(32, activation='relu'),\n",
        "        Dropout(0.1),\n",
        "        Dense(64, activation='relu'),\n",
        "        Dropout(0.1),\n",
        "        Dense(input_dim, activation='sigmoid')\n",
        "    ])\n",
        "\n",
        "  def call(self, inputs):\n",
        "    encode = self.encoder(inputs)\n",
        "    decode = self.decoder(encode)\n",
        "    return decode"
      ]
    },
    {
      "cell_type": "code",
      "execution_count": 79,
      "metadata": {
        "colab": {
          "base_uri": "https://localhost:8080/"
        },
        "id": "VknRpTkDWiKL",
        "outputId": "1337b5ca-d01e-4d54-fad9-d605a35eafb1"
      },
      "outputs": [
        {
          "name": "stdout",
          "output_type": "stream",
          "text": [
            "Epoch 1/100\n",
            "6/6 [==============================] - 1s 38ms/step - loss: 0.0702 - mse: 0.1151 - val_loss: 0.0765 - val_mse: 0.1293\n",
            "Epoch 2/100\n",
            "6/6 [==============================] - 0s 7ms/step - loss: 0.0654 - mse: 0.1063 - val_loss: 0.0703 - val_mse: 0.1184\n",
            "Epoch 3/100\n",
            "6/6 [==============================] - 0s 8ms/step - loss: 0.0570 - mse: 0.0915 - val_loss: 0.0599 - val_mse: 0.1014\n",
            "Epoch 4/100\n",
            "6/6 [==============================] - 0s 8ms/step - loss: 0.0447 - mse: 0.0715 - val_loss: 0.0473 - val_mse: 0.0834\n",
            "Epoch 5/100\n",
            "6/6 [==============================] - 0s 9ms/step - loss: 0.0327 - mse: 0.0537 - val_loss: 0.0394 - val_mse: 0.0751\n",
            "Epoch 6/100\n",
            "6/6 [==============================] - 0s 7ms/step - loss: 0.0265 - mse: 0.0459 - val_loss: 0.0376 - val_mse: 0.0737\n",
            "Epoch 7/100\n",
            "6/6 [==============================] - 0s 7ms/step - loss: 0.0237 - mse: 0.0421 - val_loss: 0.0361 - val_mse: 0.0707\n",
            "Epoch 8/100\n",
            "6/6 [==============================] - 0s 7ms/step - loss: 0.0216 - mse: 0.0386 - val_loss: 0.0346 - val_mse: 0.0674\n",
            "Epoch 9/100\n",
            "6/6 [==============================] - 0s 7ms/step - loss: 0.0202 - mse: 0.0363 - val_loss: 0.0337 - val_mse: 0.0656\n",
            "Epoch 10/100\n",
            "6/6 [==============================] - 0s 7ms/step - loss: 0.0196 - mse: 0.0352 - val_loss: 0.0332 - val_mse: 0.0649\n",
            "Epoch 11/100\n",
            "6/6 [==============================] - 0s 7ms/step - loss: 0.0188 - mse: 0.0341 - val_loss: 0.0330 - val_mse: 0.0649\n",
            "Epoch 12/100\n",
            "6/6 [==============================] - 0s 7ms/step - loss: 0.0186 - mse: 0.0339 - val_loss: 0.0329 - val_mse: 0.0648\n",
            "Epoch 13/100\n",
            "6/6 [==============================] - 0s 8ms/step - loss: 0.0181 - mse: 0.0331 - val_loss: 0.0328 - val_mse: 0.0646\n",
            "Epoch 14/100\n",
            "6/6 [==============================] - 0s 12ms/step - loss: 0.0177 - mse: 0.0324 - val_loss: 0.0323 - val_mse: 0.0638\n",
            "Epoch 15/100\n",
            "6/6 [==============================] - 0s 8ms/step - loss: 0.0175 - mse: 0.0321 - val_loss: 0.0320 - val_mse: 0.0632\n",
            "Epoch 16/100\n",
            "6/6 [==============================] - 0s 8ms/step - loss: 0.0174 - mse: 0.0319 - val_loss: 0.0318 - val_mse: 0.0628\n",
            "Epoch 17/100\n",
            "6/6 [==============================] - 0s 11ms/step - loss: 0.0171 - mse: 0.0313 - val_loss: 0.0316 - val_mse: 0.0624\n",
            "Epoch 18/100\n",
            "6/6 [==============================] - 0s 7ms/step - loss: 0.0169 - mse: 0.0311 - val_loss: 0.0313 - val_mse: 0.0618\n",
            "Epoch 19/100\n",
            "6/6 [==============================] - 0s 7ms/step - loss: 0.0166 - mse: 0.0307 - val_loss: 0.0311 - val_mse: 0.0615\n",
            "Epoch 20/100\n",
            "6/6 [==============================] - 0s 7ms/step - loss: 0.0164 - mse: 0.0303 - val_loss: 0.0310 - val_mse: 0.0612\n",
            "Epoch 21/100\n",
            "6/6 [==============================] - 0s 7ms/step - loss: 0.0162 - mse: 0.0299 - val_loss: 0.0306 - val_mse: 0.0606\n",
            "Epoch 22/100\n",
            "6/6 [==============================] - 0s 7ms/step - loss: 0.0160 - mse: 0.0296 - val_loss: 0.0304 - val_mse: 0.0602\n",
            "Epoch 23/100\n",
            "6/6 [==============================] - 0s 10ms/step - loss: 0.0157 - mse: 0.0291 - val_loss: 0.0301 - val_mse: 0.0597\n",
            "Epoch 24/100\n",
            "6/6 [==============================] - 0s 9ms/step - loss: 0.0157 - mse: 0.0291 - val_loss: 0.0300 - val_mse: 0.0594\n",
            "Epoch 25/100\n",
            "6/6 [==============================] - 0s 9ms/step - loss: 0.0155 - mse: 0.0287 - val_loss: 0.0297 - val_mse: 0.0590\n",
            "Epoch 26/100\n",
            "6/6 [==============================] - 0s 8ms/step - loss: 0.0153 - mse: 0.0284 - val_loss: 0.0294 - val_mse: 0.0584\n",
            "Epoch 27/100\n",
            "6/6 [==============================] - 0s 12ms/step - loss: 0.0150 - mse: 0.0279 - val_loss: 0.0290 - val_mse: 0.0577\n",
            "Epoch 28/100\n",
            "6/6 [==============================] - 0s 12ms/step - loss: 0.0148 - mse: 0.0276 - val_loss: 0.0285 - val_mse: 0.0569\n",
            "Epoch 29/100\n",
            "6/6 [==============================] - 0s 8ms/step - loss: 0.0145 - mse: 0.0271 - val_loss: 0.0281 - val_mse: 0.0559\n",
            "Epoch 30/100\n",
            "6/6 [==============================] - 0s 7ms/step - loss: 0.0141 - mse: 0.0263 - val_loss: 0.0275 - val_mse: 0.0550\n",
            "Epoch 31/100\n",
            "6/6 [==============================] - 0s 13ms/step - loss: 0.0138 - mse: 0.0257 - val_loss: 0.0271 - val_mse: 0.0542\n",
            "Epoch 32/100\n",
            "6/6 [==============================] - 0s 11ms/step - loss: 0.0135 - mse: 0.0251 - val_loss: 0.0266 - val_mse: 0.0533\n",
            "Epoch 33/100\n",
            "6/6 [==============================] - 0s 8ms/step - loss: 0.0130 - mse: 0.0243 - val_loss: 0.0264 - val_mse: 0.0530\n",
            "Epoch 34/100\n",
            "6/6 [==============================] - 0s 11ms/step - loss: 0.0127 - mse: 0.0238 - val_loss: 0.0262 - val_mse: 0.0527\n",
            "Epoch 35/100\n",
            "6/6 [==============================] - 0s 7ms/step - loss: 0.0127 - mse: 0.0237 - val_loss: 0.0261 - val_mse: 0.0525\n",
            "Epoch 36/100\n",
            "6/6 [==============================] - 0s 7ms/step - loss: 0.0123 - mse: 0.0230 - val_loss: 0.0260 - val_mse: 0.0523\n",
            "Epoch 37/100\n",
            "6/6 [==============================] - 0s 10ms/step - loss: 0.0122 - mse: 0.0229 - val_loss: 0.0260 - val_mse: 0.0524\n",
            "Epoch 38/100\n",
            "6/6 [==============================] - 0s 8ms/step - loss: 0.0121 - mse: 0.0227 - val_loss: 0.0260 - val_mse: 0.0525\n",
            "Epoch 39/100\n",
            "6/6 [==============================] - 0s 7ms/step - loss: 0.0120 - mse: 0.0224 - val_loss: 0.0259 - val_mse: 0.0522\n",
            "Epoch 40/100\n",
            "6/6 [==============================] - 0s 7ms/step - loss: 0.0120 - mse: 0.0224 - val_loss: 0.0257 - val_mse: 0.0519\n",
            "Epoch 41/100\n",
            "6/6 [==============================] - 0s 12ms/step - loss: 0.0118 - mse: 0.0220 - val_loss: 0.0256 - val_mse: 0.0517\n",
            "Epoch 42/100\n",
            "6/6 [==============================] - 0s 7ms/step - loss: 0.0117 - mse: 0.0219 - val_loss: 0.0255 - val_mse: 0.0517\n",
            "Epoch 43/100\n",
            "6/6 [==============================] - 0s 7ms/step - loss: 0.0117 - mse: 0.0218 - val_loss: 0.0254 - val_mse: 0.0515\n",
            "Epoch 44/100\n",
            "6/6 [==============================] - 0s 8ms/step - loss: 0.0116 - mse: 0.0217 - val_loss: 0.0253 - val_mse: 0.0513\n",
            "Epoch 45/100\n",
            "6/6 [==============================] - 0s 7ms/step - loss: 0.0115 - mse: 0.0216 - val_loss: 0.0253 - val_mse: 0.0512\n",
            "Epoch 46/100\n",
            "6/6 [==============================] - 0s 7ms/step - loss: 0.0114 - mse: 0.0214 - val_loss: 0.0251 - val_mse: 0.0508\n",
            "Epoch 47/100\n",
            "6/6 [==============================] - 0s 7ms/step - loss: 0.0113 - mse: 0.0212 - val_loss: 0.0250 - val_mse: 0.0506\n",
            "Epoch 48/100\n",
            "6/6 [==============================] - 0s 13ms/step - loss: 0.0112 - mse: 0.0210 - val_loss: 0.0248 - val_mse: 0.0503\n",
            "Epoch 49/100\n",
            "6/6 [==============================] - 0s 12ms/step - loss: 0.0111 - mse: 0.0208 - val_loss: 0.0248 - val_mse: 0.0503\n",
            "Epoch 50/100\n",
            "6/6 [==============================] - 0s 13ms/step - loss: 0.0110 - mse: 0.0206 - val_loss: 0.0246 - val_mse: 0.0500\n",
            "Epoch 51/100\n",
            "6/6 [==============================] - 0s 16ms/step - loss: 0.0109 - mse: 0.0205 - val_loss: 0.0245 - val_mse: 0.0498\n",
            "Epoch 52/100\n",
            "6/6 [==============================] - 0s 10ms/step - loss: 0.0108 - mse: 0.0203 - val_loss: 0.0244 - val_mse: 0.0496\n",
            "Epoch 53/100\n",
            "6/6 [==============================] - 0s 10ms/step - loss: 0.0107 - mse: 0.0201 - val_loss: 0.0241 - val_mse: 0.0491\n",
            "Epoch 54/100\n",
            "6/6 [==============================] - 0s 14ms/step - loss: 0.0106 - mse: 0.0199 - val_loss: 0.0239 - val_mse: 0.0487\n",
            "Epoch 55/100\n",
            "6/6 [==============================] - 0s 11ms/step - loss: 0.0104 - mse: 0.0195 - val_loss: 0.0237 - val_mse: 0.0483\n",
            "Epoch 56/100\n",
            "6/6 [==============================] - 0s 13ms/step - loss: 0.0104 - mse: 0.0194 - val_loss: 0.0235 - val_mse: 0.0478\n",
            "Epoch 57/100\n",
            "6/6 [==============================] - 0s 13ms/step - loss: 0.0102 - mse: 0.0191 - val_loss: 0.0231 - val_mse: 0.0472\n",
            "Epoch 58/100\n",
            "6/6 [==============================] - 0s 10ms/step - loss: 0.0101 - mse: 0.0189 - val_loss: 0.0228 - val_mse: 0.0466\n",
            "Epoch 59/100\n",
            "6/6 [==============================] - 0s 11ms/step - loss: 0.0098 - mse: 0.0183 - val_loss: 0.0225 - val_mse: 0.0460\n",
            "Epoch 60/100\n",
            "6/6 [==============================] - 0s 9ms/step - loss: 0.0097 - mse: 0.0181 - val_loss: 0.0221 - val_mse: 0.0452\n",
            "Epoch 61/100\n",
            "6/6 [==============================] - 0s 9ms/step - loss: 0.0095 - mse: 0.0177 - val_loss: 0.0219 - val_mse: 0.0448\n",
            "Epoch 62/100\n",
            "6/6 [==============================] - 0s 13ms/step - loss: 0.0094 - mse: 0.0175 - val_loss: 0.0216 - val_mse: 0.0442\n",
            "Epoch 63/100\n",
            "6/6 [==============================] - 0s 16ms/step - loss: 0.0092 - mse: 0.0170 - val_loss: 0.0214 - val_mse: 0.0439\n",
            "Epoch 64/100\n",
            "6/6 [==============================] - 0s 14ms/step - loss: 0.0092 - mse: 0.0172 - val_loss: 0.0212 - val_mse: 0.0434\n",
            "Epoch 65/100\n",
            "6/6 [==============================] - 0s 14ms/step - loss: 0.0090 - mse: 0.0166 - val_loss: 0.0210 - val_mse: 0.0432\n",
            "Epoch 66/100\n",
            "6/6 [==============================] - 0s 16ms/step - loss: 0.0090 - mse: 0.0167 - val_loss: 0.0209 - val_mse: 0.0430\n",
            "Epoch 67/100\n",
            "6/6 [==============================] - 0s 11ms/step - loss: 0.0088 - mse: 0.0163 - val_loss: 0.0207 - val_mse: 0.0426\n",
            "Epoch 68/100\n",
            "6/6 [==============================] - 0s 15ms/step - loss: 0.0087 - mse: 0.0162 - val_loss: 0.0206 - val_mse: 0.0424\n",
            "Epoch 69/100\n",
            "6/6 [==============================] - 0s 10ms/step - loss: 0.0089 - mse: 0.0164 - val_loss: 0.0204 - val_mse: 0.0420\n",
            "Epoch 70/100\n",
            "6/6 [==============================] - 0s 13ms/step - loss: 0.0086 - mse: 0.0160 - val_loss: 0.0203 - val_mse: 0.0419\n",
            "Epoch 71/100\n",
            "6/6 [==============================] - 0s 10ms/step - loss: 0.0086 - mse: 0.0159 - val_loss: 0.0201 - val_mse: 0.0416\n",
            "Epoch 72/100\n",
            "6/6 [==============================] - 0s 8ms/step - loss: 0.0086 - mse: 0.0158 - val_loss: 0.0200 - val_mse: 0.0414\n",
            "Epoch 73/100\n",
            "6/6 [==============================] - 0s 7ms/step - loss: 0.0084 - mse: 0.0156 - val_loss: 0.0199 - val_mse: 0.0412\n",
            "Epoch 74/100\n",
            "6/6 [==============================] - 0s 9ms/step - loss: 0.0084 - mse: 0.0155 - val_loss: 0.0198 - val_mse: 0.0410\n",
            "Epoch 75/100\n",
            "6/6 [==============================] - 0s 8ms/step - loss: 0.0084 - mse: 0.0155 - val_loss: 0.0196 - val_mse: 0.0407\n",
            "Epoch 76/100\n",
            "6/6 [==============================] - 0s 7ms/step - loss: 0.0084 - mse: 0.0156 - val_loss: 0.0195 - val_mse: 0.0404\n",
            "Epoch 77/100\n",
            "6/6 [==============================] - 0s 7ms/step - loss: 0.0083 - mse: 0.0153 - val_loss: 0.0193 - val_mse: 0.0402\n",
            "Epoch 78/100\n",
            "6/6 [==============================] - 0s 7ms/step - loss: 0.0082 - mse: 0.0151 - val_loss: 0.0192 - val_mse: 0.0399\n",
            "Epoch 79/100\n",
            "6/6 [==============================] - 0s 7ms/step - loss: 0.0082 - mse: 0.0151 - val_loss: 0.0191 - val_mse: 0.0396\n",
            "Epoch 80/100\n",
            "6/6 [==============================] - 0s 7ms/step - loss: 0.0082 - mse: 0.0151 - val_loss: 0.0189 - val_mse: 0.0394\n",
            "Epoch 81/100\n",
            "6/6 [==============================] - 0s 7ms/step - loss: 0.0079 - mse: 0.0146 - val_loss: 0.0189 - val_mse: 0.0394\n",
            "Epoch 82/100\n",
            "6/6 [==============================] - 0s 7ms/step - loss: 0.0081 - mse: 0.0149 - val_loss: 0.0188 - val_mse: 0.0392\n",
            "Epoch 83/100\n",
            "6/6 [==============================] - 0s 7ms/step - loss: 0.0081 - mse: 0.0150 - val_loss: 0.0187 - val_mse: 0.0390\n",
            "Epoch 84/100\n",
            "6/6 [==============================] - 0s 7ms/step - loss: 0.0080 - mse: 0.0147 - val_loss: 0.0187 - val_mse: 0.0389\n",
            "Epoch 85/100\n",
            "6/6 [==============================] - 0s 8ms/step - loss: 0.0078 - mse: 0.0145 - val_loss: 0.0186 - val_mse: 0.0388\n",
            "Epoch 86/100\n",
            "6/6 [==============================] - 0s 7ms/step - loss: 0.0079 - mse: 0.0146 - val_loss: 0.0184 - val_mse: 0.0385\n",
            "Epoch 87/100\n",
            "6/6 [==============================] - 0s 7ms/step - loss: 0.0078 - mse: 0.0144 - val_loss: 0.0182 - val_mse: 0.0382\n",
            "Epoch 88/100\n",
            "6/6 [==============================] - 0s 7ms/step - loss: 0.0078 - mse: 0.0145 - val_loss: 0.0181 - val_mse: 0.0379\n",
            "Epoch 89/100\n",
            "6/6 [==============================] - 0s 7ms/step - loss: 0.0078 - mse: 0.0144 - val_loss: 0.0182 - val_mse: 0.0381\n",
            "Epoch 90/100\n",
            "6/6 [==============================] - 0s 8ms/step - loss: 0.0077 - mse: 0.0143 - val_loss: 0.0179 - val_mse: 0.0377\n",
            "Epoch 91/100\n",
            "6/6 [==============================] - 0s 11ms/step - loss: 0.0077 - mse: 0.0143 - val_loss: 0.0178 - val_mse: 0.0373\n",
            "Epoch 92/100\n",
            "6/6 [==============================] - 0s 7ms/step - loss: 0.0078 - mse: 0.0145 - val_loss: 0.0177 - val_mse: 0.0372\n",
            "Epoch 93/100\n",
            "6/6 [==============================] - 0s 7ms/step - loss: 0.0077 - mse: 0.0143 - val_loss: 0.0176 - val_mse: 0.0370\n",
            "Epoch 94/100\n",
            "6/6 [==============================] - 0s 12ms/step - loss: 0.0077 - mse: 0.0142 - val_loss: 0.0176 - val_mse: 0.0370\n",
            "Epoch 95/100\n",
            "6/6 [==============================] - 0s 7ms/step - loss: 0.0077 - mse: 0.0142 - val_loss: 0.0175 - val_mse: 0.0367\n",
            "Epoch 96/100\n",
            "6/6 [==============================] - 0s 7ms/step - loss: 0.0076 - mse: 0.0140 - val_loss: 0.0174 - val_mse: 0.0366\n",
            "Epoch 97/100\n",
            "6/6 [==============================] - 0s 7ms/step - loss: 0.0076 - mse: 0.0140 - val_loss: 0.0173 - val_mse: 0.0364\n",
            "Epoch 98/100\n",
            "6/6 [==============================] - 0s 8ms/step - loss: 0.0075 - mse: 0.0137 - val_loss: 0.0172 - val_mse: 0.0363\n",
            "Epoch 99/100\n",
            "6/6 [==============================] - 0s 8ms/step - loss: 0.0075 - mse: 0.0138 - val_loss: 0.0172 - val_mse: 0.0362\n",
            "Epoch 100/100\n",
            "6/6 [==============================] - 0s 7ms/step - loss: 0.0075 - mse: 0.0139 - val_loss: 0.0169 - val_mse: 0.0356\n"
          ]
        }
      ],
      "source": [
        "# Create autoencoder model\n",
        "autoencoder = Autoencoder(input_dim=X_train_scaled.shape[1])\n",
        "\n",
        "# Loss and optimizer definition\n",
        "autoencoder.compile(optimizer=tf.keras.optimizers.Adam(),\n",
        "                    loss='msle',  #  Computes the mean squared logarithmic error between y_true & y_pred.\n",
        "                    metrics=['mse']) \n",
        "\n",
        "# Training model\n",
        "EPOCHS = 100\n",
        "BATCH_SIZE = 256\n",
        "\n",
        "# Fit the autoencoder\n",
        "history = autoencoder.fit(x=X_train_scaled, \n",
        "                          y=X_train_scaled,\n",
        "                          epochs=EPOCHS,\n",
        "                          batch_size=BATCH_SIZE,\n",
        "                          validation_data=(X_test_scaled, X_test_scaled),\n",
        "                          shuffle=True)"
      ]
    },
    {
      "cell_type": "code",
      "execution_count": 80,
      "metadata": {
        "colab": {
          "base_uri": "https://localhost:8080/",
          "height": 472
        },
        "id": "VWYi-cCNXs1U",
        "outputId": "78208f51-1bcf-44c6-8fad-9f5e2a292482"
      },
      "outputs": [
        {
          "data": {
            "image/png": "[encoded data removed]",
            "text/plain": [
              "<Figure size 640x480 with 1 Axes>"
            ]
          },
          "metadata": {},
          "output_type": "display_data"
        }
      ],
      "source": [
        "# Plot the training and validation accuracy and loss at each epoch\n",
        "loss = history.history['loss']\n",
        "val_loss = history.history['val_loss']\n",
        "epochs = range(1, len(loss) + 1)\n",
        "plt.plot(epochs, loss, 'g', label='Training loss')\n",
        "plt.plot(epochs, val_loss, 'r', label='Validation loss')\n",
        "plt.title('Training and validation loss')\n",
        "plt.xlabel('Epochs')\n",
        "plt.ylabel('Loss')\n",
        "plt.legend()\n",
        "plt.show()"
      ]
    },
    {
      "attachments": {},
      "cell_type": "markdown",
      "metadata": {
        "id": "QYrDAWMiiHF-"
      },
      "source": [
        "# 4. Finding a threshold\n",
        "\n",
        "Figuring out a threshold which will be used to determine whether a prediction is normal or abnormal\n",
        "\n",
        "?? Finding more methods to determine a threshold"
      ]
    },
    {
      "cell_type": "code",
      "execution_count": 81,
      "metadata": {
        "id": "EF584TWSh4WP"
      },
      "outputs": [],
      "source": [
        "def get_threshold(model, X_train):\n",
        "  \"\"\"\n",
        "  Determine a threshold for anomalies\n",
        "  \n",
        "  Arguments:\n",
        "    model -- trained model\n",
        "    X_train -- input data which was used to train the model\n",
        "         \n",
        "  Returns: \n",
        "    threshold -- any prediction value bigger than threshold is anomalies\n",
        "  \"\"\"\n",
        "  # getting predictions (recontructions) of the input data\n",
        "  preds = model.predict(X_train)\n",
        "  # calculate the difference between predictions and input data\n",
        "  pred_errors = tf.keras.losses.msle(preds, X_train)\n",
        "  # Calculate threshold for anomalies\n",
        "  threshold = np.mean(pred_errors.numpy()) + np.std(pred_errors.numpy()) \n",
        "  return threshold\n"
      ]
    },
    {
      "attachments": {},
      "cell_type": "markdown",
      "metadata": {
        "id": "KriXv_ZenGOv"
      },
      "source": [
        "# 5. Classifying predictions into classes:\n",
        "\n",
        "* 0: normal sample\n",
        "* 1: anomaly\n"
      ]
    },
    {
      "cell_type": "code",
      "execution_count": 82,
      "metadata": {
        "id": "29p-8jD3h4nF"
      },
      "outputs": [],
      "source": [
        "def get_predictions(model, X_test, threshold):\n",
        "  \"\"\"\n",
        "  Get all predictions of samples\n",
        "  \n",
        "  Arguments:\n",
        "    model -- trained model\n",
        "    X_test -- samples, which should be predicted by the trained model\n",
        "    threshold -- value to determine a prediction is anomaly or not\n",
        "         \n",
        "  Returns: \n",
        "    y_preds -- predicted labels of each sample (0: normal, 1: abnormal)\n",
        "  \"\"\"\n",
        "  pred = model.predict(X_test)\n",
        "  pred_errors = tf.keras.losses.msle(pred, X_test)\n",
        "  y_preds = [0 if i < threshold else 1 for i in pred_errors]\n",
        "  return y_preds\n",
        "\n"
      ]
    },
    {
      "attachments": {},
      "cell_type": "markdown",
      "metadata": {
        "id": "Z9TlD8cmqZal"
      },
      "source": [
        "# 6. Autoencoder Anomaly Detection Performance"
      ]
    },
    {
      "cell_type": "code",
      "execution_count": 83,
      "metadata": {
        "colab": {
          "base_uri": "https://localhost:8080/"
        },
        "id": "H4XqIUXyqcRF",
        "outputId": "f0036695-4d81-4062-c610-20272c2948dd"
      },
      "outputs": [
        {
          "name": "stdout",
          "output_type": "stream",
          "text": [
            "47/47 [==============================] - 0s 914us/step\n",
            "Thrshold: 0.009893303120785669\n",
            "11/11 [==============================] - 0s 1ms/step\n",
            "              precision    recall  f1-score   support\n",
            "\n",
            "           0       0.85      0.85      0.85       176\n",
            "           1       0.85      0.85      0.85       176\n",
            "\n",
            "    accuracy                           0.85       352\n",
            "   macro avg       0.85      0.85      0.85       352\n",
            "weighted avg       0.85      0.85      0.85       352\n",
            "\n",
            "AUC: 0.8494318181818182\n"
          ]
        }
      ],
      "source": [
        "threshold = get_threshold(autoencoder, X_train_scaled)\n",
        "print(f\"Thrshold: {threshold}\")\n",
        "\n",
        "# get predictions of X_test_scaled\n",
        "y_preds = get_predictions(autoencoder, X_test_scaled, threshold)\n",
        "\n",
        "# Check the prediction performance\n",
        "from sklearn.metrics import classification_report\n",
        "print(classification_report(y_test, y_preds))\n",
        "\n",
        "from sklearn.metrics import roc_auc_score\n",
        "auc_score = roc_auc_score(y_test, y_preds)\n",
        "print(f\"AUC: {auc_score}\")"
      ]
    },
    {
      "cell_type": "code",
      "execution_count": 84,
      "metadata": {
        "id": "o3evBjgiuAJi"
      },
      "outputs": [],
      "source": [
        "# the above code block can be write in a function\n",
        "def performance(model, X_train, X_test):\n",
        "  threshold = get_threshold(model, X_train)\n",
        "  print(f\"Threshold: {threshold}\")\n",
        "\n",
        "  # get predictions of X_test_scaled\n",
        "  y_preds = get_predictions(model, X_test, threshold)\n",
        "\n",
        "  # Check the prediction performance\n",
        "  print(classification_report(y_test, y_preds))\n",
        "  auc_score = roc_auc_score(y_test, y_preds)\n",
        "  print(f\"AUC: {auc_score}\")"
      ]
    },
    {
      "attachments": {},
      "cell_type": "markdown",
      "metadata": {
        "id": "Dl5qPBohso67"
      },
      "source": [
        "# 7. Tuning hyperparameters to get better models"
      ]
    },
    {
      "cell_type": "code",
      "execution_count": 85,
      "metadata": {
        "colab": {
          "base_uri": "https://localhost:8080/"
        },
        "id": "H2jNmc4JsxwX",
        "outputId": "17622557-9ce4-4b27-f5e7-58dcccec3d1f"
      },
      "outputs": [
        {
          "name": "stdout",
          "output_type": "stream",
          "text": [
            "Epoch 1/20\n",
            "12/12 [==============================] - 2s 22ms/step - loss: 0.0705 - mse: 0.1157 - val_loss: 0.0755 - val_mse: 0.1276\n",
            "Epoch 2/20\n",
            "12/12 [==============================] - 0s 8ms/step - loss: 0.0614 - mse: 0.0992 - val_loss: 0.0595 - val_mse: 0.1015\n",
            "Epoch 3/20\n",
            "12/12 [==============================] - 0s 7ms/step - loss: 0.0402 - mse: 0.0651 - val_loss: 0.0414 - val_mse: 0.0792\n",
            "Epoch 4/20\n",
            "12/12 [==============================] - 0s 9ms/step - loss: 0.0258 - mse: 0.0449 - val_loss: 0.0362 - val_mse: 0.0698\n",
            "Epoch 5/20\n",
            "12/12 [==============================] - 0s 7ms/step - loss: 0.0217 - mse: 0.0385 - val_loss: 0.0348 - val_mse: 0.0677\n",
            "Epoch 6/20\n",
            "12/12 [==============================] - 0s 8ms/step - loss: 0.0193 - mse: 0.0348 - val_loss: 0.0327 - val_mse: 0.0648\n",
            "Epoch 7/20\n",
            "12/12 [==============================] - 0s 8ms/step - loss: 0.0181 - mse: 0.0331 - val_loss: 0.0319 - val_mse: 0.0631\n",
            "Epoch 8/20\n",
            "12/12 [==============================] - 0s 7ms/step - loss: 0.0173 - mse: 0.0317 - val_loss: 0.0313 - val_mse: 0.0620\n",
            "Epoch 9/20\n",
            "12/12 [==============================] - 0s 6ms/step - loss: 0.0169 - mse: 0.0311 - val_loss: 0.0304 - val_mse: 0.0606\n",
            "Epoch 10/20\n",
            "12/12 [==============================] - 0s 5ms/step - loss: 0.0162 - mse: 0.0300 - val_loss: 0.0295 - val_mse: 0.0589\n",
            "Epoch 11/20\n",
            "12/12 [==============================] - 0s 6ms/step - loss: 0.0156 - mse: 0.0289 - val_loss: 0.0286 - val_mse: 0.0574\n",
            "Epoch 12/20\n",
            "12/12 [==============================] - 0s 4ms/step - loss: 0.0148 - mse: 0.0275 - val_loss: 0.0278 - val_mse: 0.0560\n",
            "Epoch 13/20\n",
            "12/12 [==============================] - 0s 4ms/step - loss: 0.0142 - mse: 0.0265 - val_loss: 0.0271 - val_mse: 0.0546\n",
            "Epoch 14/20\n",
            "12/12 [==============================] - 0s 4ms/step - loss: 0.0136 - mse: 0.0252 - val_loss: 0.0268 - val_mse: 0.0540\n",
            "Epoch 15/20\n",
            "12/12 [==============================] - 0s 5ms/step - loss: 0.0132 - mse: 0.0245 - val_loss: 0.0265 - val_mse: 0.0535\n",
            "Epoch 16/20\n",
            "12/12 [==============================] - 0s 4ms/step - loss: 0.0128 - mse: 0.0238 - val_loss: 0.0261 - val_mse: 0.0529\n",
            "Epoch 17/20\n",
            "12/12 [==============================] - 0s 6ms/step - loss: 0.0126 - mse: 0.0234 - val_loss: 0.0262 - val_mse: 0.0530\n",
            "Epoch 18/20\n",
            "12/12 [==============================] - 0s 4ms/step - loss: 0.0124 - mse: 0.0229 - val_loss: 0.0260 - val_mse: 0.0526\n",
            "Epoch 19/20\n",
            "12/12 [==============================] - 0s 4ms/step - loss: 0.0121 - mse: 0.0225 - val_loss: 0.0258 - val_mse: 0.0520\n",
            "Epoch 20/20\n",
            "12/12 [==============================] - 0s 5ms/step - loss: 0.0119 - mse: 0.0221 - val_loss: 0.0256 - val_mse: 0.0516\n"
          ]
        }
      ],
      "source": [
        "# Create autoencoder model\n",
        "autoencoder_2 = Autoencoder(input_dim=X_train_scaled.shape[1])\n",
        "\n",
        "# Loss and optimizer definition\n",
        "autoencoder_2.compile(optimizer=tf.keras.optimizers.Adam(),\n",
        "                    loss='msle',  #  Computes the mean squared logarithmic error between y_true & y_pred.\n",
        "                    metrics=['mse']) \n",
        "\n",
        "# Training model\n",
        "EPOCHS = 20\n",
        "BATCH_SIZE = 128\n",
        "\n",
        "# Fit the autoencoder\n",
        "history_2 = autoencoder_2.fit(x=X_train_scaled, \n",
        "                          y=X_train_scaled,\n",
        "                          epochs=EPOCHS,\n",
        "                          batch_size=BATCH_SIZE,\n",
        "                          validation_data=(X_test_scaled, X_test_scaled),\n",
        "                          shuffle=True)"
      ]
    },
    {
      "cell_type": "code",
      "execution_count": 86,
      "metadata": {
        "colab": {
          "base_uri": "https://localhost:8080/"
        },
        "id": "R_BNsVWTs93f",
        "outputId": "a52383a3-8019-4121-a198-0b4635e9229b"
      },
      "outputs": [
        {
          "name": "stdout",
          "output_type": "stream",
          "text": [
            "47/47 [==============================] - 0s 879us/step\n",
            "Threshold: 0.016654403516558874\n",
            "11/11 [==============================] - 0s 1ms/step\n",
            "              precision    recall  f1-score   support\n",
            "\n",
            "           0       0.94      0.82      0.88       176\n",
            "           1       0.84      0.94      0.89       176\n",
            "\n",
            "    accuracy                           0.88       352\n",
            "   macro avg       0.89      0.88      0.88       352\n",
            "weighted avg       0.89      0.88      0.88       352\n",
            "\n",
            "AUC: 0.8835227272727273\n"
          ]
        }
      ],
      "source": [
        "performance(autoencoder_2, X_train_scaled, X_test_scaled)"
      ]
    },
    {
      "cell_type": "code",
      "execution_count": 87,
      "metadata": {
        "colab": {
          "base_uri": "https://localhost:8080/"
        },
        "id": "3zT0MWTNvFQ4",
        "outputId": "ed871751-2b5e-410a-e244-11cc5d443d73"
      },
      "outputs": [
        {
          "name": "stdout",
          "output_type": "stream",
          "text": [
            "Epoch 1/10\n",
            "6/6 [==============================] - 1s 38ms/step - loss: 0.0729 - mse: 0.1201 - val_loss: 0.0793 - val_mse: 0.1345\n",
            "Epoch 2/10\n",
            "6/6 [==============================] - 0s 7ms/step - loss: 0.0705 - mse: 0.1156 - val_loss: 0.0781 - val_mse: 0.1323\n",
            "Epoch 3/10\n",
            "6/6 [==============================] - 0s 12ms/step - loss: 0.0690 - mse: 0.1127 - val_loss: 0.0764 - val_mse: 0.1292\n",
            "Epoch 4/10\n",
            "6/6 [==============================] - 0s 7ms/step - loss: 0.0666 - mse: 0.1082 - val_loss: 0.0734 - val_mse: 0.1238\n",
            "Epoch 5/10\n",
            "6/6 [==============================] - 0s 7ms/step - loss: 0.0622 - mse: 0.1002 - val_loss: 0.0678 - val_mse: 0.1142\n",
            "Epoch 6/10\n",
            "6/6 [==============================] - 0s 7ms/step - loss: 0.0544 - mse: 0.0865 - val_loss: 0.0583 - val_mse: 0.0990\n",
            "Epoch 7/10\n",
            "6/6 [==============================] - 0s 7ms/step - loss: 0.0421 - mse: 0.0669 - val_loss: 0.0459 - val_mse: 0.0818\n",
            "Epoch 8/10\n",
            "6/6 [==============================] - 0s 9ms/step - loss: 0.0306 - mse: 0.0503 - val_loss: 0.0390 - val_mse: 0.0756\n",
            "Epoch 9/10\n",
            "6/6 [==============================] - 0s 9ms/step - loss: 0.0255 - mse: 0.0445 - val_loss: 0.0382 - val_mse: 0.0760\n",
            "Epoch 10/10\n",
            "6/6 [==============================] - 0s 8ms/step - loss: 0.0232 - mse: 0.0414 - val_loss: 0.0357 - val_mse: 0.0710\n"
          ]
        }
      ],
      "source": [
        "# Create autoencoder model\n",
        "autoencoder_3 = Autoencoder(input_dim=X_train_scaled.shape[1])\n",
        "\n",
        "# Loss and optimizer definition\n",
        "autoencoder_3.compile(optimizer=tf.keras.optimizers.Adam(),\n",
        "                    loss='msle',  #  Computes the mean squared logarithmic error between y_true & y_pred.\n",
        "                    metrics=['mse']) \n",
        "\n",
        "# Training model\n",
        "EPOCHS = 10\n",
        "BATCH_SIZE = 256\n",
        "\n",
        "# Fit the autoencoder\n",
        "history_3 = autoencoder_3.fit(x=X_train_scaled, \n",
        "                          y=X_train_scaled,\n",
        "                          epochs=EPOCHS,\n",
        "                          batch_size=BATCH_SIZE,\n",
        "                          validation_data=(X_test_scaled, X_test_scaled),\n",
        "                          shuffle=True)"
      ]
    },
    {
      "cell_type": "code",
      "execution_count": 88,
      "metadata": {
        "colab": {
          "base_uri": "https://localhost:8080/"
        },
        "id": "s92liMjAwCIj",
        "outputId": "790c3b25-0239-4df7-9ed0-5adaaf1cd320"
      },
      "outputs": [
        {
          "name": "stdout",
          "output_type": "stream",
          "text": [
            "47/47 [==============================] - 0s 2ms/step\n",
            "Threshold: 0.029546466532260597\n",
            "11/11 [==============================] - 0s 2ms/step\n",
            "              precision    recall  f1-score   support\n",
            "\n",
            "           0       0.89      0.84      0.86       176\n",
            "           1       0.84      0.89      0.87       176\n",
            "\n",
            "    accuracy                           0.86       352\n",
            "   macro avg       0.86      0.86      0.86       352\n",
            "weighted avg       0.86      0.86      0.86       352\n",
            "\n",
            "AUC: 0.8636363636363636\n"
          ]
        }
      ],
      "source": [
        "performance(autoencoder_3, X_train_scaled, X_test_scaled)"
      ]
    },
    {
      "cell_type": "code",
      "execution_count": 91,
      "metadata": {
        "colab": {
          "base_uri": "https://localhost:8080/"
        },
        "id": "EIdc06tRwDL7",
        "outputId": "0f6485df-b775-4b76-ebe2-0c43eaed0e00"
      },
      "outputs": [
        {
          "name": "stdout",
          "output_type": "stream",
          "text": [
            "Epoch 1/20\n",
            "24/24 [==============================] - 2s 9ms/step - loss: 0.0695 - mse: 0.1136 - val_loss: 0.0720 - val_mse: 0.1214\n",
            "Epoch 2/20\n",
            "24/24 [==============================] - 0s 3ms/step - loss: 0.0438 - mse: 0.0710 - val_loss: 0.0393 - val_mse: 0.0754\n",
            "Epoch 3/20\n",
            "24/24 [==============================] - 0s 3ms/step - loss: 0.0216 - mse: 0.0383 - val_loss: 0.0340 - val_mse: 0.0663\n",
            "Epoch 4/20\n",
            "24/24 [==============================] - 0s 4ms/step - loss: 0.0180 - mse: 0.0328 - val_loss: 0.0327 - val_mse: 0.0646\n",
            "Epoch 5/20\n",
            "24/24 [==============================] - 0s 4ms/step - loss: 0.0171 - mse: 0.0315 - val_loss: 0.0316 - val_mse: 0.0623\n",
            "Epoch 6/20\n",
            "24/24 [==============================] - 0s 3ms/step - loss: 0.0161 - mse: 0.0299 - val_loss: 0.0308 - val_mse: 0.0612\n",
            "Epoch 7/20\n",
            "24/24 [==============================] - 0s 3ms/step - loss: 0.0157 - mse: 0.0292 - val_loss: 0.0305 - val_mse: 0.0607\n",
            "Epoch 8/20\n",
            "24/24 [==============================] - 0s 3ms/step - loss: 0.0153 - mse: 0.0285 - val_loss: 0.0298 - val_mse: 0.0595\n",
            "Epoch 9/20\n",
            "24/24 [==============================] - 0s 4ms/step - loss: 0.0146 - mse: 0.0273 - val_loss: 0.0289 - val_mse: 0.0580\n",
            "Epoch 10/20\n",
            "24/24 [==============================] - 0s 3ms/step - loss: 0.0140 - mse: 0.0264 - val_loss: 0.0274 - val_mse: 0.0551\n",
            "Epoch 11/20\n",
            "24/24 [==============================] - 0s 4ms/step - loss: 0.0131 - mse: 0.0246 - val_loss: 0.0266 - val_mse: 0.0537\n",
            "Epoch 12/20\n",
            "24/24 [==============================] - 0s 3ms/step - loss: 0.0123 - mse: 0.0231 - val_loss: 0.0262 - val_mse: 0.0530\n",
            "Epoch 13/20\n",
            "24/24 [==============================] - 0s 3ms/step - loss: 0.0120 - mse: 0.0224 - val_loss: 0.0262 - val_mse: 0.0531\n",
            "Epoch 14/20\n",
            "24/24 [==============================] - 0s 3ms/step - loss: 0.0119 - mse: 0.0223 - val_loss: 0.0257 - val_mse: 0.0522\n",
            "Epoch 15/20\n",
            "24/24 [==============================] - 0s 3ms/step - loss: 0.0116 - mse: 0.0217 - val_loss: 0.0258 - val_mse: 0.0522\n",
            "Epoch 16/20\n",
            "24/24 [==============================] - 0s 4ms/step - loss: 0.0114 - mse: 0.0213 - val_loss: 0.0254 - val_mse: 0.0515\n",
            "Epoch 17/20\n",
            "24/24 [==============================] - 0s 3ms/step - loss: 0.0113 - mse: 0.0212 - val_loss: 0.0253 - val_mse: 0.0514\n",
            "Epoch 18/20\n",
            "24/24 [==============================] - 0s 3ms/step - loss: 0.0111 - mse: 0.0208 - val_loss: 0.0248 - val_mse: 0.0504\n",
            "Epoch 19/20\n",
            "24/24 [==============================] - 0s 4ms/step - loss: 0.0108 - mse: 0.0203 - val_loss: 0.0241 - val_mse: 0.0490\n",
            "Epoch 20/20\n",
            "24/24 [==============================] - 0s 4ms/step - loss: 0.0106 - mse: 0.0198 - val_loss: 0.0234 - val_mse: 0.0475\n"
          ]
        }
      ],
      "source": [
        "# Create autoencoder model\n",
        "autoencoder_4 = Autoencoder(input_dim=X_train_scaled.shape[1])\n",
        "\n",
        "# Loss and optimizer definition\n",
        "autoencoder_4.compile(optimizer=tf.keras.optimizers.Adam(),\n",
        "                    loss='msle',  #  Computes the mean squared logarithmic error between y_true & y_pred.\n",
        "                    metrics=['mse']) \n",
        "\n",
        "# Training model\n",
        "EPOCHS = 20\n",
        "BATCH_SIZE = 64\n",
        "\n",
        "# Fit the autoencoder\n",
        "history_4 = autoencoder_4.fit(x=X_train_scaled, \n",
        "                          y=X_train_scaled,\n",
        "                          epochs=EPOCHS,\n",
        "                          batch_size=BATCH_SIZE,\n",
        "                          validation_data=(X_test_scaled, X_test_scaled),\n",
        "                          shuffle=True)"
      ]
    },
    {
      "cell_type": "code",
      "execution_count": 92,
      "metadata": {
        "colab": {
          "base_uri": "https://localhost:8080/"
        },
        "id": "TIpQhLcOwUGA",
        "outputId": "b77b1ae3-e2bb-4479-a880-9a8bb445140d"
      },
      "outputs": [
        {
          "name": "stdout",
          "output_type": "stream",
          "text": [
            "47/47 [==============================] - 0s 862us/step\n",
            "Threshold: 0.015113364702069584\n",
            "11/11 [==============================] - 0s 1ms/step\n",
            "              precision    recall  f1-score   support\n",
            "\n",
            "           0       0.90      0.85      0.88       176\n",
            "           1       0.86      0.91      0.88       176\n",
            "\n",
            "    accuracy                           0.88       352\n",
            "   macro avg       0.88      0.88      0.88       352\n",
            "weighted avg       0.88      0.88      0.88       352\n",
            "\n",
            "AUC: 0.8806818181818182\n"
          ]
        }
      ],
      "source": [
        "performance(autoencoder_4, X_train_scaled, X_test_scaled)"
      ]
    },
    {
      "cell_type": "code",
      "execution_count": 93,
      "metadata": {
        "colab": {
          "base_uri": "https://localhost:8080/"
        },
        "id": "_wE1IUdMwY_I",
        "outputId": "a6c075ce-1f94-48ef-b9fc-89a0efb4f5a2"
      },
      "outputs": [
        {
          "name": "stdout",
          "output_type": "stream",
          "text": [
            "Epoch 1/50\n",
            "12/12 [==============================] - 2s 18ms/step - loss: 0.0709 - mse: 0.1164 - val_loss: 0.0777 - val_mse: 0.1318\n",
            "Epoch 2/50\n",
            "12/12 [==============================] - 0s 6ms/step - loss: 0.0651 - mse: 0.1059 - val_loss: 0.0682 - val_mse: 0.1159\n",
            "Epoch 3/50\n",
            "12/12 [==============================] - 0s 6ms/step - loss: 0.0475 - mse: 0.0770 - val_loss: 0.0493 - val_mse: 0.0900\n",
            "Epoch 4/50\n",
            "12/12 [==============================] - 0s 6ms/step - loss: 0.0304 - mse: 0.0517 - val_loss: 0.0371 - val_mse: 0.0713\n",
            "Epoch 5/50\n",
            "12/12 [==============================] - 0s 4ms/step - loss: 0.0228 - mse: 0.0404 - val_loss: 0.0338 - val_mse: 0.0654\n",
            "Epoch 6/50\n",
            "12/12 [==============================] - 0s 4ms/step - loss: 0.0199 - mse: 0.0355 - val_loss: 0.0337 - val_mse: 0.0658\n",
            "Epoch 7/50\n",
            "12/12 [==============================] - 0s 6ms/step - loss: 0.0188 - mse: 0.0340 - val_loss: 0.0328 - val_mse: 0.0646\n",
            "Epoch 8/50\n",
            "12/12 [==============================] - 0s 6ms/step - loss: 0.0181 - mse: 0.0331 - val_loss: 0.0321 - val_mse: 0.0632\n",
            "Epoch 9/50\n",
            "12/12 [==============================] - 0s 5ms/step - loss: 0.0172 - mse: 0.0316 - val_loss: 0.0315 - val_mse: 0.0623\n",
            "Epoch 10/50\n",
            "12/12 [==============================] - 0s 6ms/step - loss: 0.0167 - mse: 0.0308 - val_loss: 0.0305 - val_mse: 0.0604\n",
            "Epoch 11/50\n",
            "12/12 [==============================] - 0s 6ms/step - loss: 0.0159 - mse: 0.0296 - val_loss: 0.0296 - val_mse: 0.0589\n",
            "Epoch 12/50\n",
            "12/12 [==============================] - 0s 4ms/step - loss: 0.0153 - mse: 0.0285 - val_loss: 0.0282 - val_mse: 0.0564\n",
            "Epoch 13/50\n",
            "12/12 [==============================] - 0s 7ms/step - loss: 0.0144 - mse: 0.0270 - val_loss: 0.0271 - val_mse: 0.0543\n",
            "Epoch 14/50\n",
            "12/12 [==============================] - 0s 6ms/step - loss: 0.0135 - mse: 0.0254 - val_loss: 0.0264 - val_mse: 0.0532\n",
            "Epoch 15/50\n",
            "12/12 [==============================] - 0s 4ms/step - loss: 0.0130 - mse: 0.0244 - val_loss: 0.0262 - val_mse: 0.0528\n",
            "Epoch 16/50\n",
            "12/12 [==============================] - 0s 4ms/step - loss: 0.0127 - mse: 0.0237 - val_loss: 0.0260 - val_mse: 0.0526\n",
            "Epoch 17/50\n",
            "12/12 [==============================] - 0s 4ms/step - loss: 0.0124 - mse: 0.0231 - val_loss: 0.0258 - val_mse: 0.0523\n",
            "Epoch 18/50\n",
            "12/12 [==============================] - 0s 4ms/step - loss: 0.0123 - mse: 0.0230 - val_loss: 0.0258 - val_mse: 0.0523\n",
            "Epoch 19/50\n",
            "12/12 [==============================] - 0s 6ms/step - loss: 0.0119 - mse: 0.0224 - val_loss: 0.0256 - val_mse: 0.0521\n",
            "Epoch 20/50\n",
            "12/12 [==============================] - 0s 5ms/step - loss: 0.0118 - mse: 0.0221 - val_loss: 0.0257 - val_mse: 0.0521\n",
            "Epoch 21/50\n",
            "12/12 [==============================] - 0s 4ms/step - loss: 0.0118 - mse: 0.0220 - val_loss: 0.0254 - val_mse: 0.0516\n",
            "Epoch 22/50\n",
            "12/12 [==============================] - 0s 5ms/step - loss: 0.0116 - mse: 0.0216 - val_loss: 0.0254 - val_mse: 0.0516\n",
            "Epoch 23/50\n",
            "12/12 [==============================] - 0s 6ms/step - loss: 0.0115 - mse: 0.0214 - val_loss: 0.0251 - val_mse: 0.0512\n",
            "Epoch 24/50\n",
            "12/12 [==============================] - 0s 6ms/step - loss: 0.0113 - mse: 0.0212 - val_loss: 0.0251 - val_mse: 0.0511\n",
            "Epoch 25/50\n",
            "12/12 [==============================] - 0s 4ms/step - loss: 0.0112 - mse: 0.0210 - val_loss: 0.0249 - val_mse: 0.0505\n",
            "Epoch 26/50\n",
            "12/12 [==============================] - 0s 4ms/step - loss: 0.0110 - mse: 0.0206 - val_loss: 0.0245 - val_mse: 0.0500\n",
            "Epoch 27/50\n",
            "12/12 [==============================] - 0s 6ms/step - loss: 0.0109 - mse: 0.0204 - val_loss: 0.0245 - val_mse: 0.0499\n",
            "Epoch 28/50\n",
            "12/12 [==============================] - 0s 4ms/step - loss: 0.0107 - mse: 0.0201 - val_loss: 0.0242 - val_mse: 0.0492\n",
            "Epoch 29/50\n",
            "12/12 [==============================] - 0s 4ms/step - loss: 0.0105 - mse: 0.0195 - val_loss: 0.0238 - val_mse: 0.0485\n",
            "Epoch 30/50\n",
            "12/12 [==============================] - 0s 5ms/step - loss: 0.0103 - mse: 0.0192 - val_loss: 0.0232 - val_mse: 0.0474\n",
            "Epoch 31/50\n",
            "12/12 [==============================] - 0s 5ms/step - loss: 0.0100 - mse: 0.0185 - val_loss: 0.0227 - val_mse: 0.0463\n",
            "Epoch 32/50\n",
            "12/12 [==============================] - 0s 4ms/step - loss: 0.0097 - mse: 0.0179 - val_loss: 0.0224 - val_mse: 0.0455\n",
            "Epoch 33/50\n",
            "12/12 [==============================] - 0s 6ms/step - loss: 0.0095 - mse: 0.0176 - val_loss: 0.0218 - val_mse: 0.0444\n",
            "Epoch 34/50\n",
            "12/12 [==============================] - 0s 4ms/step - loss: 0.0094 - mse: 0.0172 - val_loss: 0.0214 - val_mse: 0.0437\n",
            "Epoch 35/50\n",
            "12/12 [==============================] - 0s 6ms/step - loss: 0.0092 - mse: 0.0169 - val_loss: 0.0213 - val_mse: 0.0436\n",
            "Epoch 36/50\n",
            "12/12 [==============================] - 0s 6ms/step - loss: 0.0090 - mse: 0.0165 - val_loss: 0.0209 - val_mse: 0.0428\n",
            "Epoch 37/50\n",
            "12/12 [==============================] - 0s 6ms/step - loss: 0.0091 - mse: 0.0167 - val_loss: 0.0206 - val_mse: 0.0423\n",
            "Epoch 38/50\n",
            "12/12 [==============================] - 0s 7ms/step - loss: 0.0089 - mse: 0.0164 - val_loss: 0.0202 - val_mse: 0.0416\n",
            "Epoch 39/50\n",
            "12/12 [==============================] - 0s 6ms/step - loss: 0.0087 - mse: 0.0161 - val_loss: 0.0198 - val_mse: 0.0408\n",
            "Epoch 40/50\n",
            "12/12 [==============================] - 0s 6ms/step - loss: 0.0086 - mse: 0.0160 - val_loss: 0.0197 - val_mse: 0.0406\n",
            "Epoch 41/50\n",
            "12/12 [==============================] - 0s 6ms/step - loss: 0.0085 - mse: 0.0157 - val_loss: 0.0194 - val_mse: 0.0401\n",
            "Epoch 42/50\n",
            "12/12 [==============================] - 0s 7ms/step - loss: 0.0085 - mse: 0.0156 - val_loss: 0.0193 - val_mse: 0.0400\n",
            "Epoch 43/50\n",
            "12/12 [==============================] - 0s 6ms/step - loss: 0.0084 - mse: 0.0156 - val_loss: 0.0190 - val_mse: 0.0395\n",
            "Epoch 44/50\n",
            "12/12 [==============================] - 0s 6ms/step - loss: 0.0083 - mse: 0.0154 - val_loss: 0.0187 - val_mse: 0.0390\n",
            "Epoch 45/50\n",
            "12/12 [==============================] - 0s 7ms/step - loss: 0.0082 - mse: 0.0151 - val_loss: 0.0185 - val_mse: 0.0386\n",
            "Epoch 46/50\n",
            "12/12 [==============================] - 0s 7ms/step - loss: 0.0083 - mse: 0.0152 - val_loss: 0.0184 - val_mse: 0.0384\n",
            "Epoch 47/50\n",
            "12/12 [==============================] - 0s 7ms/step - loss: 0.0082 - mse: 0.0150 - val_loss: 0.0181 - val_mse: 0.0378\n",
            "Epoch 48/50\n",
            "12/12 [==============================] - 0s 5ms/step - loss: 0.0081 - mse: 0.0151 - val_loss: 0.0182 - val_mse: 0.0379\n",
            "Epoch 49/50\n",
            "12/12 [==============================] - 0s 5ms/step - loss: 0.0079 - mse: 0.0146 - val_loss: 0.0178 - val_mse: 0.0372\n",
            "Epoch 50/50\n",
            "12/12 [==============================] - 0s 8ms/step - loss: 0.0080 - mse: 0.0149 - val_loss: 0.0177 - val_mse: 0.0368\n"
          ]
        }
      ],
      "source": [
        "# Create autoencoder model\n",
        "autoencoder_5 = Autoencoder(input_dim=X_train_scaled.shape[1])\n",
        "\n",
        "# Loss and optimizer definition\n",
        "autoencoder_5.compile(optimizer=tf.keras.optimizers.Adam(),\n",
        "                    loss='msle',  #  Computes the mean squared logarithmic error between y_true & y_pred.\n",
        "                    metrics=['mse']) \n",
        "\n",
        "# Training model\n",
        "EPOCHS = 50\n",
        "BATCH_SIZE = 128\n",
        "\n",
        "# Fit the autoencoder\n",
        "history_5 = autoencoder_5.fit(x=X_train_scaled, \n",
        "                          y=X_train_scaled,\n",
        "                          epochs=EPOCHS,\n",
        "                          batch_size=BATCH_SIZE,\n",
        "                          validation_data=(X_test_scaled, X_test_scaled),\n",
        "                          shuffle=True)"
      ]
    },
    {
      "cell_type": "code",
      "execution_count": 94,
      "metadata": {
        "colab": {
          "base_uri": "https://localhost:8080/"
        },
        "id": "dq0HmQDVwz1C",
        "outputId": "92ceb2a7-4b2f-4867-e5e9-68fe0c867f2a"
      },
      "outputs": [
        {
          "name": "stdout",
          "output_type": "stream",
          "text": [
            "47/47 [==============================] - 0s 2ms/step\n",
            "Threshold: 0.01051551705104101\n",
            "11/11 [==============================] - 0s 3ms/step\n",
            "              precision    recall  f1-score   support\n",
            "\n",
            "           0       0.86      0.86      0.86       176\n",
            "           1       0.86      0.86      0.86       176\n",
            "\n",
            "    accuracy                           0.86       352\n",
            "   macro avg       0.86      0.86      0.86       352\n",
            "weighted avg       0.86      0.86      0.86       352\n",
            "\n",
            "AUC: 0.8607954545454546\n"
          ]
        }
      ],
      "source": [
        "performance(autoencoder_5, X_train_scaled, X_test_scaled)"
      ]
    },
    {
      "attachments": {},
      "cell_type": "markdown",
      "metadata": {
        "id": "DisjYcdo2d2I"
      },
      "source": [
        "# 7. Save and load the best model\n",
        "\n",
        "The best model is `autoencoder_2` with AUC = 88.35"
      ]
    },
    {
      "cell_type": "code",
      "execution_count": 97,
      "metadata": {
        "colab": {
          "base_uri": "https://localhost:8080/"
        },
        "id": "LGpCY2ruyF5d",
        "outputId": "a33a4ee9-0907-4a23-b5e8-aa8607bc7005"
      },
      "outputs": [
        {
          "name": "stderr",
          "output_type": "stream",
          "text": [
            "WARNING:absl:Found untraced functions such as _update_step_xla while saving (showing 1 of 1). These functions will not be directly callable after loading.\n"
          ]
        }
      ],
      "source": [
        "# Save the entire model as a SavedModel.\n",
        "!mkdir -p saved_model\n",
        "autoencoder_2.save('saved_model/my_model')"
      ]
    },
    {
      "cell_type": "code",
      "execution_count": 98,
      "metadata": {
        "id": "aai4Hjz212qB"
      },
      "outputs": [],
      "source": [
        "# Reload the saved model\n",
        "new_model = tf.keras.models.load_model('saved_model/my_model')"
      ]
    },
    {
      "cell_type": "code",
      "execution_count": 99,
      "metadata": {
        "colab": {
          "base_uri": "https://localhost:8080/"
        },
        "id": "tDnAkrre2p7n",
        "outputId": "c2c68142-cb9f-42bc-cf05-eb4a92e54dd6"
      },
      "outputs": [
        {
          "name": "stdout",
          "output_type": "stream",
          "text": [
            "47/47 [==============================] - 0s 1ms/step\n",
            "Threshold: 0.016654403516558874\n",
            "11/11 [==============================] - 0s 4ms/step\n",
            "              precision    recall  f1-score   support\n",
            "\n",
            "           0       0.94      0.82      0.88       176\n",
            "           1       0.84      0.94      0.89       176\n",
            "\n",
            "    accuracy                           0.88       352\n",
            "   macro avg       0.89      0.88      0.88       352\n",
            "weighted avg       0.89      0.88      0.88       352\n",
            "\n",
            "AUC: 0.8835227272727273\n"
          ]
        }
      ],
      "source": [
        "performance(new_model, X_train_scaled, X_test_scaled)"
      ]
    },
    {
      "attachments": {},
      "cell_type": "markdown",
      "metadata": {
        "id": "SvtXfegx3ZmA"
      },
      "source": [
        "# 8. Test new architecture of model"
      ]
    },
    {
      "cell_type": "code",
      "execution_count": 100,
      "metadata": {
        "id": "iuxLduPr2vcA"
      },
      "outputs": [],
      "source": [
        "# Create a model by subclassing Model class in tensorflow\n",
        "class AutoencoderV2(Model):\n",
        "  \"\"\"\n",
        "  An autoencoder with Encoder and decoder blocks\n",
        "  \n",
        "  Arguments:\n",
        "    input_dim -- number of NN units at layer 0 (input)\n",
        "         \n",
        "  Returns: \n",
        "    autoencoder -- autoencoder Model\n",
        "  \"\"\"\n",
        "\n",
        "  def __init__(self, input_dim):\n",
        "    super().__init__()\n",
        "    # encoder block\n",
        "    self.encoder = Sequential([\n",
        "        Dense(32, activation='relu'),\n",
        "        Dropout(0.1),\n",
        "        Dense(16, activation='relu'),\n",
        "        Dropout(0.1),\n",
        "        Dense(8, activation='relu'),\n",
        "        Dropout(0.1),\n",
        "        Dense(4, activation='relu')\n",
        "    ])\n",
        "    # Decoder block\n",
        "    self.decoder = Sequential([\n",
        "        Dense(8, activation='relu'),\n",
        "        Dropout(0.1),\n",
        "        Dense(16, activation='relu'),\n",
        "        Dropout(0.1),\n",
        "        Dense(32, activation='relu'),\n",
        "        Dropout(0.1),\n",
        "        Dense(input_dim, activation='sigmoid')\n",
        "    ])\n",
        "\n",
        "  def call(self, inputs):\n",
        "    encode = self.encoder(inputs)\n",
        "    decode = self.decoder(encode)\n",
        "    return decode"
      ]
    },
    {
      "cell_type": "code",
      "execution_count": 101,
      "metadata": {
        "colab": {
          "base_uri": "https://localhost:8080/"
        },
        "id": "4Qn0BYVJ3pEr",
        "outputId": "3c9804de-baf9-4aa9-b54b-6a9bc4cbf1de"
      },
      "outputs": [
        {
          "name": "stdout",
          "output_type": "stream",
          "text": [
            "Epoch 1/20\n",
            "12/12 [==============================] - 2s 17ms/step - loss: 0.0712 - mse: 0.1169 - val_loss: 0.0785 - val_mse: 0.1330\n",
            "Epoch 2/20\n",
            "12/12 [==============================] - 0s 6ms/step - loss: 0.0689 - mse: 0.1126 - val_loss: 0.0757 - val_mse: 0.1280\n",
            "Epoch 3/20\n",
            "12/12 [==============================] - 0s 5ms/step - loss: 0.0647 - mse: 0.1049 - val_loss: 0.0702 - val_mse: 0.1183\n",
            "Epoch 4/20\n",
            "12/12 [==============================] - 0s 4ms/step - loss: 0.0562 - mse: 0.0898 - val_loss: 0.0594 - val_mse: 0.1006\n",
            "Epoch 5/20\n",
            "12/12 [==============================] - 0s 5ms/step - loss: 0.0422 - mse: 0.0671 - val_loss: 0.0442 - val_mse: 0.0786\n",
            "Epoch 6/20\n",
            "12/12 [==============================] - 0s 4ms/step - loss: 0.0294 - mse: 0.0489 - val_loss: 0.0358 - val_mse: 0.0695\n",
            "Epoch 7/20\n",
            "12/12 [==============================] - 0s 5ms/step - loss: 0.0234 - mse: 0.0407 - val_loss: 0.0326 - val_mse: 0.0641\n",
            "Epoch 8/20\n",
            "12/12 [==============================] - 0s 6ms/step - loss: 0.0208 - mse: 0.0367 - val_loss: 0.0320 - val_mse: 0.0629\n",
            "Epoch 9/20\n",
            "12/12 [==============================] - 0s 4ms/step - loss: 0.0194 - mse: 0.0346 - val_loss: 0.0320 - val_mse: 0.0632\n",
            "Epoch 10/20\n",
            "12/12 [==============================] - 0s 5ms/step - loss: 0.0186 - mse: 0.0335 - val_loss: 0.0320 - val_mse: 0.0633\n",
            "Epoch 11/20\n",
            "12/12 [==============================] - 0s 4ms/step - loss: 0.0180 - mse: 0.0326 - val_loss: 0.0318 - val_mse: 0.0629\n",
            "Epoch 12/20\n",
            "12/12 [==============================] - 0s 4ms/step - loss: 0.0175 - mse: 0.0320 - val_loss: 0.0317 - val_mse: 0.0629\n",
            "Epoch 13/20\n",
            "12/12 [==============================] - 0s 4ms/step - loss: 0.0172 - mse: 0.0315 - val_loss: 0.0315 - val_mse: 0.0625\n",
            "Epoch 14/20\n",
            "12/12 [==============================] - 0s 5ms/step - loss: 0.0169 - mse: 0.0311 - val_loss: 0.0314 - val_mse: 0.0623\n",
            "Epoch 15/20\n",
            "12/12 [==============================] - 0s 5ms/step - loss: 0.0165 - mse: 0.0305 - val_loss: 0.0312 - val_mse: 0.0620\n",
            "Epoch 16/20\n",
            "12/12 [==============================] - 0s 6ms/step - loss: 0.0162 - mse: 0.0300 - val_loss: 0.0309 - val_mse: 0.0616\n",
            "Epoch 17/20\n",
            "12/12 [==============================] - 0s 4ms/step - loss: 0.0160 - mse: 0.0297 - val_loss: 0.0307 - val_mse: 0.0613\n",
            "Epoch 18/20\n",
            "12/12 [==============================] - 0s 4ms/step - loss: 0.0159 - mse: 0.0296 - val_loss: 0.0306 - val_mse: 0.0610\n",
            "Epoch 19/20\n",
            "12/12 [==============================] - 0s 4ms/step - loss: 0.0156 - mse: 0.0291 - val_loss: 0.0302 - val_mse: 0.0604\n",
            "Epoch 20/20\n",
            "12/12 [==============================] - 0s 5ms/step - loss: 0.0154 - mse: 0.0288 - val_loss: 0.0299 - val_mse: 0.0600\n"
          ]
        }
      ],
      "source": [
        "# Create autoencoder model\n",
        "auto_v2 = AutoencoderV2(input_dim=X_train_scaled.shape[1])\n",
        "\n",
        "# Loss and optimizer definition\n",
        "auto_v2.compile(optimizer=tf.keras.optimizers.Adam(),\n",
        "                    loss='msle',  #  Computes the mean squared logarithmic error between y_true & y_pred.\n",
        "                    metrics=['mse']) \n",
        "\n",
        "# Training model\n",
        "EPOCHS = 20\n",
        "BATCH_SIZE = 128\n",
        "\n",
        "# Fit the autoencoder\n",
        "history_v2 = auto_v2.fit(x=X_train_scaled, \n",
        "                          y=X_train_scaled,\n",
        "                          epochs=EPOCHS,\n",
        "                          batch_size=BATCH_SIZE,\n",
        "                          validation_data=(X_test_scaled, X_test_scaled),\n",
        "                          shuffle=True)"
      ]
    },
    {
      "cell_type": "code",
      "execution_count": 102,
      "metadata": {
        "colab": {
          "base_uri": "https://localhost:8080/"
        },
        "id": "gD9SRWz638HU",
        "outputId": "d6a73e9c-9b13-43ab-8e33-12f0b3ef9dea"
      },
      "outputs": [
        {
          "name": "stdout",
          "output_type": "stream",
          "text": [
            "47/47 [==============================] - 0s 1ms/step\n",
            "Threshold: 0.02151638411884621\n",
            "11/11 [==============================] - 0s 3ms/step\n",
            "              precision    recall  f1-score   support\n",
            "\n",
            "           0       0.93      0.80      0.86       176\n",
            "           1       0.82      0.94      0.88       176\n",
            "\n",
            "    accuracy                           0.87       352\n",
            "   macro avg       0.88      0.87      0.87       352\n",
            "weighted avg       0.88      0.87      0.87       352\n",
            "\n",
            "AUC: 0.8693181818181819\n"
          ]
        }
      ],
      "source": [
        "performance(auto_v2, X_train_scaled, X_test_scaled)"
      ]
    },
    {
      "cell_type": "code",
      "execution_count": 103,
      "metadata": {
        "colab": {
          "base_uri": "https://localhost:8080/"
        },
        "id": "OVlZFJqB4DFQ",
        "outputId": "08150f58-e211-4d06-8700-a895c597b4f6"
      },
      "outputs": [
        {
          "name": "stdout",
          "output_type": "stream",
          "text": [
            "Epoch 1/50\n",
            "12/12 [==============================] - 2s 17ms/step - loss: 0.0713 - mse: 0.1172 - val_loss: 0.0785 - val_mse: 0.1329\n",
            "Epoch 2/50\n",
            "12/12 [==============================] - 0s 6ms/step - loss: 0.0688 - mse: 0.1124 - val_loss: 0.0748 - val_mse: 0.1263\n",
            "Epoch 3/50\n",
            "12/12 [==============================] - 0s 4ms/step - loss: 0.0633 - mse: 0.1021 - val_loss: 0.0668 - val_mse: 0.1122\n",
            "Epoch 4/50\n",
            "12/12 [==============================] - 0s 5ms/step - loss: 0.0516 - mse: 0.0821 - val_loss: 0.0520 - val_mse: 0.0888\n",
            "Epoch 5/50\n",
            "12/12 [==============================] - 0s 4ms/step - loss: 0.0363 - mse: 0.0586 - val_loss: 0.0383 - val_mse: 0.0711\n",
            "Epoch 6/50\n",
            "12/12 [==============================] - 0s 4ms/step - loss: 0.0270 - mse: 0.0457 - val_loss: 0.0337 - val_mse: 0.0659\n",
            "Epoch 7/50\n",
            "12/12 [==============================] - 0s 5ms/step - loss: 0.0231 - mse: 0.0403 - val_loss: 0.0324 - val_mse: 0.0636\n",
            "Epoch 8/50\n",
            "12/12 [==============================] - 0s 6ms/step - loss: 0.0212 - mse: 0.0374 - val_loss: 0.0323 - val_mse: 0.0636\n",
            "Epoch 9/50\n",
            "12/12 [==============================] - 0s 4ms/step - loss: 0.0201 - mse: 0.0359 - val_loss: 0.0321 - val_mse: 0.0636\n",
            "Epoch 10/50\n",
            "12/12 [==============================] - 0s 4ms/step - loss: 0.0189 - mse: 0.0342 - val_loss: 0.0320 - val_mse: 0.0629\n",
            "Epoch 11/50\n",
            "12/12 [==============================] - 0s 5ms/step - loss: 0.0187 - mse: 0.0338 - val_loss: 0.0316 - val_mse: 0.0625\n",
            "Epoch 12/50\n",
            "12/12 [==============================] - 0s 5ms/step - loss: 0.0179 - mse: 0.0326 - val_loss: 0.0314 - val_mse: 0.0619\n",
            "Epoch 13/50\n",
            "12/12 [==============================] - 0s 6ms/step - loss: 0.0175 - mse: 0.0319 - val_loss: 0.0311 - val_mse: 0.0614\n",
            "Epoch 14/50\n",
            "12/12 [==============================] - 0s 5ms/step - loss: 0.0171 - mse: 0.0315 - val_loss: 0.0307 - val_mse: 0.0608\n",
            "Epoch 15/50\n",
            "12/12 [==============================] - 0s 6ms/step - loss: 0.0167 - mse: 0.0307 - val_loss: 0.0305 - val_mse: 0.0604\n",
            "Epoch 16/50\n",
            "12/12 [==============================] - 0s 5ms/step - loss: 0.0165 - mse: 0.0304 - val_loss: 0.0304 - val_mse: 0.0603\n",
            "Epoch 17/50\n",
            "12/12 [==============================] - 0s 5ms/step - loss: 0.0161 - mse: 0.0299 - val_loss: 0.0301 - val_mse: 0.0600\n",
            "Epoch 18/50\n",
            "12/12 [==============================] - 0s 6ms/step - loss: 0.0159 - mse: 0.0295 - val_loss: 0.0297 - val_mse: 0.0594\n",
            "Epoch 19/50\n",
            "12/12 [==============================] - 0s 7ms/step - loss: 0.0158 - mse: 0.0294 - val_loss: 0.0295 - val_mse: 0.0589\n",
            "Epoch 20/50\n",
            "12/12 [==============================] - 0s 5ms/step - loss: 0.0156 - mse: 0.0290 - val_loss: 0.0291 - val_mse: 0.0582\n",
            "Epoch 21/50\n",
            "12/12 [==============================] - 0s 5ms/step - loss: 0.0154 - mse: 0.0287 - val_loss: 0.0286 - val_mse: 0.0574\n",
            "Epoch 22/50\n",
            "12/12 [==============================] - 0s 8ms/step - loss: 0.0150 - mse: 0.0280 - val_loss: 0.0281 - val_mse: 0.0564\n",
            "Epoch 23/50\n",
            "12/12 [==============================] - 0s 5ms/step - loss: 0.0146 - mse: 0.0272 - val_loss: 0.0275 - val_mse: 0.0555\n",
            "Epoch 24/50\n",
            "12/12 [==============================] - 0s 6ms/step - loss: 0.0144 - mse: 0.0270 - val_loss: 0.0274 - val_mse: 0.0551\n",
            "Epoch 25/50\n",
            "12/12 [==============================] - 0s 6ms/step - loss: 0.0143 - mse: 0.0267 - val_loss: 0.0270 - val_mse: 0.0546\n",
            "Epoch 26/50\n",
            "12/12 [==============================] - 0s 4ms/step - loss: 0.0138 - mse: 0.0260 - val_loss: 0.0271 - val_mse: 0.0547\n",
            "Epoch 27/50\n",
            "12/12 [==============================] - 0s 5ms/step - loss: 0.0137 - mse: 0.0257 - val_loss: 0.0269 - val_mse: 0.0544\n",
            "Epoch 28/50\n",
            "12/12 [==============================] - 0s 6ms/step - loss: 0.0134 - mse: 0.0252 - val_loss: 0.0268 - val_mse: 0.0543\n",
            "Epoch 29/50\n",
            "12/12 [==============================] - 0s 5ms/step - loss: 0.0133 - mse: 0.0251 - val_loss: 0.0268 - val_mse: 0.0543\n",
            "Epoch 30/50\n",
            "12/12 [==============================] - 0s 4ms/step - loss: 0.0131 - mse: 0.0247 - val_loss: 0.0267 - val_mse: 0.0540\n",
            "Epoch 31/50\n",
            "12/12 [==============================] - 0s 6ms/step - loss: 0.0132 - mse: 0.0249 - val_loss: 0.0268 - val_mse: 0.0542\n",
            "Epoch 32/50\n",
            "12/12 [==============================] - 0s 5ms/step - loss: 0.0128 - mse: 0.0241 - val_loss: 0.0266 - val_mse: 0.0539\n",
            "Epoch 33/50\n",
            "12/12 [==============================] - 0s 5ms/step - loss: 0.0129 - mse: 0.0243 - val_loss: 0.0265 - val_mse: 0.0537\n",
            "Epoch 34/50\n",
            "12/12 [==============================] - 0s 6ms/step - loss: 0.0126 - mse: 0.0237 - val_loss: 0.0265 - val_mse: 0.0536\n",
            "Epoch 35/50\n",
            "12/12 [==============================] - 0s 6ms/step - loss: 0.0126 - mse: 0.0237 - val_loss: 0.0264 - val_mse: 0.0535\n",
            "Epoch 36/50\n",
            "12/12 [==============================] - 0s 5ms/step - loss: 0.0125 - mse: 0.0235 - val_loss: 0.0264 - val_mse: 0.0536\n",
            "Epoch 37/50\n",
            "12/12 [==============================] - 0s 7ms/step - loss: 0.0124 - mse: 0.0234 - val_loss: 0.0263 - val_mse: 0.0536\n",
            "Epoch 38/50\n",
            "12/12 [==============================] - 0s 5ms/step - loss: 0.0122 - mse: 0.0231 - val_loss: 0.0265 - val_mse: 0.0537\n",
            "Epoch 39/50\n",
            "12/12 [==============================] - 0s 7ms/step - loss: 0.0122 - mse: 0.0230 - val_loss: 0.0263 - val_mse: 0.0535\n",
            "Epoch 40/50\n",
            "12/12 [==============================] - 0s 6ms/step - loss: 0.0122 - mse: 0.0230 - val_loss: 0.0262 - val_mse: 0.0534\n",
            "Epoch 41/50\n",
            "12/12 [==============================] - 0s 5ms/step - loss: 0.0120 - mse: 0.0227 - val_loss: 0.0262 - val_mse: 0.0533\n",
            "Epoch 42/50\n",
            "12/12 [==============================] - 0s 4ms/step - loss: 0.0120 - mse: 0.0227 - val_loss: 0.0263 - val_mse: 0.0536\n",
            "Epoch 43/50\n",
            "12/12 [==============================] - 0s 4ms/step - loss: 0.0120 - mse: 0.0227 - val_loss: 0.0262 - val_mse: 0.0534\n",
            "Epoch 44/50\n",
            "12/12 [==============================] - 0s 4ms/step - loss: 0.0119 - mse: 0.0225 - val_loss: 0.0262 - val_mse: 0.0533\n",
            "Epoch 45/50\n",
            "12/12 [==============================] - 0s 4ms/step - loss: 0.0119 - mse: 0.0225 - val_loss: 0.0261 - val_mse: 0.0533\n",
            "Epoch 46/50\n",
            "12/12 [==============================] - 0s 4ms/step - loss: 0.0118 - mse: 0.0222 - val_loss: 0.0261 - val_mse: 0.0533\n",
            "Epoch 47/50\n",
            "12/12 [==============================] - 0s 4ms/step - loss: 0.0118 - mse: 0.0223 - val_loss: 0.0260 - val_mse: 0.0532\n",
            "Epoch 48/50\n",
            "12/12 [==============================] - 0s 4ms/step - loss: 0.0118 - mse: 0.0222 - val_loss: 0.0259 - val_mse: 0.0530\n",
            "Epoch 49/50\n",
            "12/12 [==============================] - 0s 4ms/step - loss: 0.0116 - mse: 0.0220 - val_loss: 0.0258 - val_mse: 0.0527\n",
            "Epoch 50/50\n",
            "12/12 [==============================] - 0s 6ms/step - loss: 0.0117 - mse: 0.0220 - val_loss: 0.0256 - val_mse: 0.0524\n"
          ]
        }
      ],
      "source": [
        "# Create autoencoder model\n",
        "auto_v3 = AutoencoderV2(input_dim=X_train_scaled.shape[1])\n",
        "\n",
        "# Loss and optimizer definition\n",
        "auto_v3.compile(optimizer=tf.keras.optimizers.Adam(),\n",
        "                    loss='msle',  #  Computes the mean squared logarithmic error between y_true & y_pred.\n",
        "                    metrics=['mse']) \n",
        "\n",
        "# Training model\n",
        "EPOCHS = 50\n",
        "BATCH_SIZE = 128\n",
        "\n",
        "# Fit the autoencoder\n",
        "history_v3 = auto_v3.fit(x=X_train_scaled, \n",
        "                          y=X_train_scaled,\n",
        "                          epochs=EPOCHS,\n",
        "                          batch_size=BATCH_SIZE,\n",
        "                          validation_data=(X_test_scaled, X_test_scaled),\n",
        "                          shuffle=True)"
      ]
    },
    {
      "cell_type": "code",
      "execution_count": 104,
      "metadata": {
        "colab": {
          "base_uri": "https://localhost:8080/"
        },
        "id": "qoAKK0KD4SNQ",
        "outputId": "9b20b6d1-a938-4105-b50d-c4b6e871832d"
      },
      "outputs": [
        {
          "name": "stdout",
          "output_type": "stream",
          "text": [
            "47/47 [==============================] - 0s 2ms/step\n",
            "Threshold: 0.016718616889630153\n",
            "11/11 [==============================] - 0s 1ms/step\n",
            "              precision    recall  f1-score   support\n",
            "\n",
            "           0       0.94      0.84      0.89       176\n",
            "           1       0.86      0.95      0.90       176\n",
            "\n",
            "    accuracy                           0.89       352\n",
            "   macro avg       0.90      0.89      0.89       352\n",
            "weighted avg       0.90      0.89      0.89       352\n",
            "\n",
            "AUC: 0.8948863636363635\n"
          ]
        }
      ],
      "source": [
        "performance(auto_v3, X_train_scaled, X_test_scaled)"
      ]
    },
    {
      "cell_type": "code",
      "execution_count": 109,
      "metadata": {
        "colab": {
          "base_uri": "https://localhost:8080/"
        },
        "id": "qxSTG-Mm5YYo",
        "outputId": "6844ec5d-f388-44b3-8a55-19c4460e55d0"
      },
      "outputs": [
        {
          "name": "stderr",
          "output_type": "stream",
          "text": [
            "WARNING:absl:Found untraced functions such as _update_step_xla while saving (showing 1 of 1). These functions will not be directly callable after loading.\n"
          ]
        }
      ],
      "source": [
        "# Save the model auto_v3 with AUC=0.89\n",
        "auto_v3.save('saved_model/auto_v3')"
      ]
    },
    {
      "cell_type": "code",
      "execution_count": 118,
      "metadata": {
        "id": "sA92kSSj-INV"
      },
      "outputs": [],
      "source": [
        "# Reload model auto_v3\n",
        "reload_auto_v3 = tf.keras.models.load_model('saved_model/auto_v3')"
      ]
    },
    {
      "cell_type": "code",
      "execution_count": 119,
      "metadata": {
        "colab": {
          "base_uri": "https://localhost:8080/"
        },
        "id": "2j9PKdrY-YL5",
        "outputId": "477c518c-1ab0-497a-8fba-ba9c18519176"
      },
      "outputs": [
        {
          "name": "stdout",
          "output_type": "stream",
          "text": [
            "47/47 [==============================] - 0s 1ms/step\n",
            "Threshold: 0.016718616889630153\n",
            "11/11 [==============================] - 0s 2ms/step\n",
            "              precision    recall  f1-score   support\n",
            "\n",
            "           0       0.94      0.84      0.89       176\n",
            "           1       0.86      0.95      0.90       176\n",
            "\n",
            "    accuracy                           0.89       352\n",
            "   macro avg       0.90      0.89      0.89       352\n",
            "weighted avg       0.90      0.89      0.89       352\n",
            "\n",
            "AUC: 0.8948863636363635\n"
          ]
        }
      ],
      "source": [
        "performance(reload_auto_v3, X_train_scaled, X_test_scaled)"
      ]
    },
    {
      "cell_type": "code",
      "execution_count": null,
      "metadata": {
        "id": "4KvZO9xk-c-d"
      },
      "outputs": [],
      "source": []
    }
  ],
  "metadata": {
    "colab": {
      "provenance": []
    },
    "kernelspec": {
      "display_name": "Python 3",
      "name": "python3"
    },
    "language_info": {
      "codemirror_mode": {
        "name": "ipython",
        "version": 3
      },
      "file_extension": ".py",
      "mimetype": "text/x-python",
      "name": "python",
      "nbconvert_exporter": "python",
      "pygments_lexer": "ipython3",
      "version": "3.9.0"
    }
  },
  "nbformat": 4,
  "nbformat_minor": 0
}
