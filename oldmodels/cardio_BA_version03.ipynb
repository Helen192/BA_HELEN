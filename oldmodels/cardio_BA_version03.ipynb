{
  "nbformat": 4,
  "nbformat_minor": 0,
  "metadata": {
    "colab": {
      "provenance": []
    },
    "kernelspec": {
      "name": "python3",
      "display_name": "Python 3"
    },
    "language_info": {
      "name": "python"
    }
  },
  "cells": [
    {
      "cell_type": "code",
      "execution_count": 1,
      "metadata": {
        "id": "jqULf_BbUlLa"
      },
      "outputs": [],
      "source": [
        "import numpy as np\n",
        "import pandas as pd\n",
        "import matplotlib.pyplot as plt\n",
        "import seaborn as sns\n",
        "from sklearn.metrics import classification_report, roc_auc_score, roc_curve\n",
        "\n",
        "import tensorflow as tf\n",
        "from tensorflow.keras import Model, Sequential\n",
        "from tensorflow.keras.layers import Dense, Dropout"
      ]
    },
    {
      "cell_type": "markdown",
      "source": [
        "# 1. GETTING DATA\n",
        "\n",
        "Dataset includes:\n",
        "\n",
        "* `x` : training data (all are normal samples)\n",
        "* `tx` : test data samples (some normal, some abnormal)\n",
        "* `ty` : tells you which are normal and which are not.\n",
        "  * our autoencoder would reconstruct every sample with\n",
        "ty=0 very well, and make mistakes when ty=1"
      ],
      "metadata": {
        "id": "71lljZZrV_mS"
      }
    },
    {
      "cell_type": "code",
      "source": [
        "# This code allows us to upload data from local drive\n",
        "from google.colab import files\n",
        "uploaded = files.upload()"
      ],
      "metadata": {
        "colab": {
          "base_uri": "https://localhost:8080/",
          "height": 73
        },
        "id": "O2bNgxgrUqG3",
        "outputId": "da063d36-f456-404b-f954-d5d37ff7ec9f"
      },
      "execution_count": 2,
      "outputs": [
        {
          "output_type": "display_data",
          "data": {
            "text/plain": [
              "<IPython.core.display.HTML object>"
            ],
            "text/html": [
              "\n",
              "     <input type=\"file\" id=\"files-75447069-edbd-4e5d-9610-9bebeeecc45e\" name=\"files[]\" multiple disabled\n",
              "        style=\"border:none\" />\n",
              "     <output id=\"result-75447069-edbd-4e5d-9610-9bebeeecc45e\">\n",
              "      Upload widget is only available when the cell has been executed in the\n",
              "      current browser session. Please rerun this cell to enable.\n",
              "      </output>\n",
              "      <script>// Copyright 2017 Google LLC\n",
              "//\n",
              "// Licensed under the Apache License, Version 2.0 (the \"License\");\n",
              "// you may not use this file except in compliance with the License.\n",
              "// You may obtain a copy of the License at\n",
              "//\n",
              "//      http://www.apache.org/licenses/LICENSE-2.0\n",
              "//\n",
              "// Unless required by applicable law or agreed to in writing, software\n",
              "// distributed under the License is distributed on an \"AS IS\" BASIS,\n",
              "// WITHOUT WARRANTIES OR CONDITIONS OF ANY KIND, either express or implied.\n",
              "// See the License for the specific language governing permissions and\n",
              "// limitations under the License.\n",
              "\n",
              "/**\n",
              " * @fileoverview Helpers for google.colab Python module.\n",
              " */\n",
              "(function(scope) {\n",
              "function span(text, styleAttributes = {}) {\n",
              "  const element = document.createElement('span');\n",
              "  element.textContent = text;\n",
              "  for (const key of Object.keys(styleAttributes)) {\n",
              "    element.style[key] = styleAttributes[key];\n",
              "  }\n",
              "  return element;\n",
              "}\n",
              "\n",
              "// Max number of bytes which will be uploaded at a time.\n",
              "const MAX_PAYLOAD_SIZE = 100 * 1024;\n",
              "\n",
              "function _uploadFiles(inputId, outputId) {\n",
              "  const steps = uploadFilesStep(inputId, outputId);\n",
              "  const outputElement = document.getElementById(outputId);\n",
              "  // Cache steps on the outputElement to make it available for the next call\n",
              "  // to uploadFilesContinue from Python.\n",
              "  outputElement.steps = steps;\n",
              "\n",
              "  return _uploadFilesContinue(outputId);\n",
              "}\n",
              "\n",
              "// This is roughly an async generator (not supported in the browser yet),\n",
              "// where there are multiple asynchronous steps and the Python side is going\n",
              "// to poll for completion of each step.\n",
              "// This uses a Promise to block the python side on completion of each step,\n",
              "// then passes the result of the previous step as the input to the next step.\n",
              "function _uploadFilesContinue(outputId) {\n",
              "  const outputElement = document.getElementById(outputId);\n",
              "  const steps = outputElement.steps;\n",
              "\n",
              "  const next = steps.next(outputElement.lastPromiseValue);\n",
              "  return Promise.resolve(next.value.promise).then((value) => {\n",
              "    // Cache the last promise value to make it available to the next\n",
              "    // step of the generator.\n",
              "    outputElement.lastPromiseValue = value;\n",
              "    return next.value.response;\n",
              "  });\n",
              "}\n",
              "\n",
              "/**\n",
              " * Generator function which is called between each async step of the upload\n",
              " * process.\n",
              " * @param {string} inputId Element ID of the input file picker element.\n",
              " * @param {string} outputId Element ID of the output display.\n",
              " * @return {!Iterable<!Object>} Iterable of next steps.\n",
              " */\n",
              "function* uploadFilesStep(inputId, outputId) {\n",
              "  const inputElement = document.getElementById(inputId);\n",
              "  inputElement.disabled = false;\n",
              "\n",
              "  const outputElement = document.getElementById(outputId);\n",
              "  outputElement.innerHTML = '';\n",
              "\n",
              "  const pickedPromise = new Promise((resolve) => {\n",
              "    inputElement.addEventListener('change', (e) => {\n",
              "      resolve(e.target.files);\n",
              "    });\n",
              "  });\n",
              "\n",
              "  const cancel = document.createElement('button');\n",
              "  inputElement.parentElement.appendChild(cancel);\n",
              "  cancel.textContent = 'Cancel upload';\n",
              "  const cancelPromise = new Promise((resolve) => {\n",
              "    cancel.onclick = () => {\n",
              "      resolve(null);\n",
              "    };\n",
              "  });\n",
              "\n",
              "  // Wait for the user to pick the files.\n",
              "  const files = yield {\n",
              "    promise: Promise.race([pickedPromise, cancelPromise]),\n",
              "    response: {\n",
              "      action: 'starting',\n",
              "    }\n",
              "  };\n",
              "\n",
              "  cancel.remove();\n",
              "\n",
              "  // Disable the input element since further picks are not allowed.\n",
              "  inputElement.disabled = true;\n",
              "\n",
              "  if (!files) {\n",
              "    return {\n",
              "      response: {\n",
              "        action: 'complete',\n",
              "      }\n",
              "    };\n",
              "  }\n",
              "\n",
              "  for (const file of files) {\n",
              "    const li = document.createElement('li');\n",
              "    li.append(span(file.name, {fontWeight: 'bold'}));\n",
              "    li.append(span(\n",
              "        `(${file.type || 'n/a'}) - ${file.size} bytes, ` +\n",
              "        `last modified: ${\n",
              "            file.lastModifiedDate ? file.lastModifiedDate.toLocaleDateString() :\n",
              "                                    'n/a'} - `));\n",
              "    const percent = span('0% done');\n",
              "    li.appendChild(percent);\n",
              "\n",
              "    outputElement.appendChild(li);\n",
              "\n",
              "    const fileDataPromise = new Promise((resolve) => {\n",
              "      const reader = new FileReader();\n",
              "      reader.onload = (e) => {\n",
              "        resolve(e.target.result);\n",
              "      };\n",
              "      reader.readAsArrayBuffer(file);\n",
              "    });\n",
              "    // Wait for the data to be ready.\n",
              "    let fileData = yield {\n",
              "      promise: fileDataPromise,\n",
              "      response: {\n",
              "        action: 'continue',\n",
              "      }\n",
              "    };\n",
              "\n",
              "    // Use a chunked sending to avoid message size limits. See b/62115660.\n",
              "    let position = 0;\n",
              "    do {\n",
              "      const length = Math.min(fileData.byteLength - position, MAX_PAYLOAD_SIZE);\n",
              "      const chunk = new Uint8Array(fileData, position, length);\n",
              "      position += length;\n",
              "\n",
              "      const base64 = btoa(String.fromCharCode.apply(null, chunk));\n",
              "      yield {\n",
              "        response: {\n",
              "          action: 'append',\n",
              "          file: file.name,\n",
              "          data: base64,\n",
              "        },\n",
              "      };\n",
              "\n",
              "      let percentDone = fileData.byteLength === 0 ?\n",
              "          100 :\n",
              "          Math.round((position / fileData.byteLength) * 100);\n",
              "      percent.textContent = `${percentDone}% done`;\n",
              "\n",
              "    } while (position < fileData.byteLength);\n",
              "  }\n",
              "\n",
              "  // All done.\n",
              "  yield {\n",
              "    response: {\n",
              "      action: 'complete',\n",
              "    }\n",
              "  };\n",
              "}\n",
              "\n",
              "scope.google = scope.google || {};\n",
              "scope.google.colab = scope.google.colab || {};\n",
              "scope.google.colab._files = {\n",
              "  _uploadFiles,\n",
              "  _uploadFilesContinue,\n",
              "};\n",
              "})(self);\n",
              "</script> "
            ]
          },
          "metadata": {}
        },
        {
          "output_type": "stream",
          "name": "stdout",
          "text": [
            "Saving cardio.npz to cardio.npz\n"
          ]
        }
      ]
    },
    {
      "cell_type": "code",
      "source": [
        "data = np.load('cardio.npz')"
      ],
      "metadata": {
        "id": "smXwGjQmWJDW"
      },
      "execution_count": 3,
      "outputs": []
    },
    {
      "cell_type": "code",
      "source": [
        "X_train = data['x']\n",
        "X_test = data['tx']\n",
        "y_test= data['ty']"
      ],
      "metadata": {
        "id": "RM4LNk1ZWPBU"
      },
      "execution_count": 4,
      "outputs": []
    },
    {
      "cell_type": "code",
      "source": [
        "X_train"
      ],
      "metadata": {
        "colab": {
          "base_uri": "https://localhost:8080/"
        },
        "id": "y4LYbRiYWRVf",
        "outputId": "4b97ec28-fe33-4369-c27e-d7fbffc3c08a"
      },
      "execution_count": 5,
      "outputs": [
        {
          "output_type": "execute_result",
          "data": {
            "text/plain": [
              "array([[ 1.69798491, -0.91998844, -0.20364049, ...,  1.67981029,\n",
              "        -0.69058975, -0.49329397],\n",
              "       [ 0.85144861, -0.91998844, -0.20364049, ...,  0.57633422,\n",
              "        -0.62378908, -0.49329397],\n",
              "       [-2.11142843, -0.18061463, -0.20364049, ..., -1.56165067,\n",
              "        -0.59038875, -2.12660547],\n",
              "       ...,\n",
              "       [ 1.27471676, -0.91998844, -0.20364049, ...,  0.85220324,\n",
              "        -0.62378908,  1.14001753],\n",
              "       [ 1.27471676,  1.71403076, -0.04677629, ...,  1.26600677,\n",
              "        -0.49018775,  1.14001753],\n",
              "       [ 0.5339975 ,  1.17365699, -0.18424532, ...,  0.99013775,\n",
              "         1.1464286 ,  1.14001753]])"
            ]
          },
          "metadata": {},
          "execution_count": 5
        }
      ]
    },
    {
      "cell_type": "code",
      "source": [
        "X_train.shape"
      ],
      "metadata": {
        "colab": {
          "base_uri": "https://localhost:8080/"
        },
        "id": "09xLt-WSWULm",
        "outputId": "94907d36-40c2-49c4-c11f-f01ebcec071c"
      },
      "execution_count": 6,
      "outputs": [
        {
          "output_type": "execute_result",
          "data": {
            "text/plain": [
              "(1479, 21)"
            ]
          },
          "metadata": {},
          "execution_count": 6
        }
      ]
    },
    {
      "cell_type": "code",
      "source": [
        "X_test.shape"
      ],
      "metadata": {
        "colab": {
          "base_uri": "https://localhost:8080/"
        },
        "id": "YGJmgQlgWW6I",
        "outputId": "6126b714-6560-4e90-9033-4ec614bfb48c"
      },
      "execution_count": 7,
      "outputs": [
        {
          "output_type": "execute_result",
          "data": {
            "text/plain": [
              "(352, 21)"
            ]
          },
          "metadata": {},
          "execution_count": 7
        }
      ]
    },
    {
      "cell_type": "code",
      "source": [
        "X_train.min()"
      ],
      "metadata": {
        "colab": {
          "base_uri": "https://localhost:8080/"
        },
        "id": "abTO_GEiWaUq",
        "outputId": "aa938ade-114c-4fab-97c5-84b062a3fd8b"
      },
      "execution_count": 8,
      "outputs": [
        {
          "output_type": "execute_result",
          "data": {
            "text/plain": [
              "-3.0048923462960526"
            ]
          },
          "metadata": {},
          "execution_count": 8
        }
      ]
    },
    {
      "cell_type": "code",
      "source": [
        "X_train.max()"
      ],
      "metadata": {
        "colab": {
          "base_uri": "https://localhost:8080/"
        },
        "id": "_KFstw56WgGm",
        "outputId": "cd33b542-24ab-4c6c-8b54-f4e85c708df1"
      },
      "execution_count": 9,
      "outputs": [
        {
          "output_type": "execute_result",
          "data": {
            "text/plain": [
              "14.025335380634532"
            ]
          },
          "metadata": {},
          "execution_count": 9
        }
      ]
    },
    {
      "cell_type": "markdown",
      "source": [
        "# 2. Feature scaling\n",
        "- Using MinMaxScaler() in Scikit-learn to scale data"
      ],
      "metadata": {
        "id": "sCcI6XdKWo9z"
      }
    },
    {
      "cell_type": "code",
      "source": [
        "from sklearn.preprocessing import MinMaxScaler\n",
        "scaler = MinMaxScaler(feature_range=(0, 1))\n",
        "X_train_scaled = scaler.fit_transform(X_train.copy())\n",
        "X_test_scaled = scaler.transform(X_test.copy())"
      ],
      "metadata": {
        "id": "z-7vjDX-XLjp"
      },
      "execution_count": 10,
      "outputs": []
    },
    {
      "cell_type": "markdown",
      "source": [
        "# 3. Create Autoencoder Model"
      ],
      "metadata": {
        "id": "pGDJYFHpYKr6"
      }
    },
    {
      "cell_type": "code",
      "source": [
        "# Create a model by subclassing Model class in tensorflow\n",
        "class AutoencoderV2(Model):\n",
        "  \"\"\"\n",
        "  An autoencoder with Encoder and decoder blocks\n",
        "  \n",
        "  Arguments:\n",
        "    input_dim -- number of NN units at layer 0 (input)\n",
        "         \n",
        "  Returns: \n",
        "    autoencoder -- autoencoder Model\n",
        "  \"\"\"\n",
        "\n",
        "  def __init__(self, input_dim):\n",
        "    super().__init__()\n",
        "    # encoder block\n",
        "    self.encoder = Sequential([\n",
        "        Dense(32, activation='relu'),\n",
        "        Dropout(0.1),\n",
        "        Dense(16, activation='relu'),\n",
        "        Dropout(0.1),\n",
        "        Dense(8, activation='relu'),\n",
        "        Dropout(0.1),\n",
        "        Dense(4, activation='relu')\n",
        "    ])\n",
        "    # Decoder block\n",
        "    self.decoder = Sequential([\n",
        "        Dense(8, activation='relu'),\n",
        "        Dropout(0.1),\n",
        "        Dense(16, activation='relu'),\n",
        "        Dropout(0.1),\n",
        "        Dense(32, activation='relu'),\n",
        "        Dropout(0.1),\n",
        "        Dense(input_dim, activation='sigmoid')\n",
        "    ])\n",
        "\n",
        "  def call(self, inputs):\n",
        "    encode = self.encoder(inputs)\n",
        "    decode = self.decoder(encode)\n",
        "    return decode"
      ],
      "metadata": {
        "id": "_Ti6PT8I8vSG"
      },
      "execution_count": 11,
      "outputs": []
    },
    {
      "cell_type": "markdown",
      "source": [
        "## 3.a. Training model using the loss function `Mean Square Error`:\n",
        "\n",
        "Pros of mse:\n",
        "  * MSE penalises the model for having huge errors by squaring them.\n",
        "  * It is particularly helpful in weeding out outliers with large errors from the model by putting more weight on them.\n",
        "\n",
        "**source:** https://medium.com/analytics-vidhya/loss-functions-to-evaluate-regression-models-8dac47e327e2"
      ],
      "metadata": {
        "id": "46T_WNLp7hJG"
      }
    },
    {
      "cell_type": "code",
      "source": [
        "# Set random seed\n",
        "tf.keras.utils.set_random_seed(42)\n",
        "\n",
        "# Create autoencoder model\n",
        "autoencoder = AutoencoderV2(input_dim=X_train_scaled.shape[1])\n",
        "\n",
        "# Loss and optimizer definition\n",
        "autoencoder.compile(optimizer=tf.keras.optimizers.Adam(),\n",
        "                    loss='mse',  #  Computes the mean of squares of errors between y_true & y_pred.\n",
        "                    metrics=['mse']) \n",
        "\n",
        "# Training model\n",
        "EPOCHS = 50\n",
        "BATCH_SIZE = 128\n",
        "\n",
        "# Fit the autoencoder\n",
        "history= autoencoder.fit(x=X_train_scaled, \n",
        "                          y=X_train_scaled,\n",
        "                          epochs=EPOCHS,\n",
        "                          batch_size=BATCH_SIZE,\n",
        "                          validation_data=(X_test_scaled, X_test_scaled),\n",
        "                          shuffle=True)"
      ],
      "metadata": {
        "colab": {
          "base_uri": "https://localhost:8080/"
        },
        "id": "iBUeSRrS81iN",
        "outputId": "1242ab65-d3b9-481f-eff4-de095b07d718"
      },
      "execution_count": 12,
      "outputs": [
        {
          "output_type": "stream",
          "name": "stdout",
          "text": [
            "Epoch 1/50\n",
            "12/12 [==============================] - 5s 60ms/step - loss: 0.1176 - mse: 0.1176 - val_loss: 0.1341 - val_mse: 0.1341\n",
            "Epoch 2/50\n",
            "12/12 [==============================] - 0s 8ms/step - loss: 0.1149 - mse: 0.1149 - val_loss: 0.1314 - val_mse: 0.1314\n",
            "Epoch 3/50\n",
            "12/12 [==============================] - 0s 10ms/step - loss: 0.1110 - mse: 0.1110 - val_loss: 0.1269 - val_mse: 0.1269\n",
            "Epoch 4/50\n",
            "12/12 [==============================] - 0s 22ms/step - loss: 0.1041 - mse: 0.1041 - val_loss: 0.1181 - val_mse: 0.1181\n",
            "Epoch 5/50\n",
            "12/12 [==============================] - 0s 15ms/step - loss: 0.0894 - mse: 0.0894 - val_loss: 0.0991 - val_mse: 0.0991\n",
            "Epoch 6/50\n",
            "12/12 [==============================] - 0s 23ms/step - loss: 0.0644 - mse: 0.0644 - val_loss: 0.0797 - val_mse: 0.0797\n",
            "Epoch 7/50\n",
            "12/12 [==============================] - 0s 16ms/step - loss: 0.0470 - mse: 0.0470 - val_loss: 0.0695 - val_mse: 0.0695\n",
            "Epoch 8/50\n",
            "12/12 [==============================] - 0s 20ms/step - loss: 0.0381 - mse: 0.0381 - val_loss: 0.0635 - val_mse: 0.0635\n",
            "Epoch 9/50\n",
            "12/12 [==============================] - 0s 14ms/step - loss: 0.0350 - mse: 0.0350 - val_loss: 0.0641 - val_mse: 0.0641\n",
            "Epoch 10/50\n",
            "12/12 [==============================] - 0s 11ms/step - loss: 0.0338 - mse: 0.0338 - val_loss: 0.0641 - val_mse: 0.0641\n",
            "Epoch 11/50\n",
            "12/12 [==============================] - 0s 15ms/step - loss: 0.0328 - mse: 0.0328 - val_loss: 0.0633 - val_mse: 0.0633\n",
            "Epoch 12/50\n",
            "12/12 [==============================] - 0s 12ms/step - loss: 0.0318 - mse: 0.0318 - val_loss: 0.0625 - val_mse: 0.0625\n",
            "Epoch 13/50\n",
            "12/12 [==============================] - 0s 14ms/step - loss: 0.0310 - mse: 0.0310 - val_loss: 0.0618 - val_mse: 0.0618\n",
            "Epoch 14/50\n",
            "12/12 [==============================] - 0s 9ms/step - loss: 0.0305 - mse: 0.0305 - val_loss: 0.0613 - val_mse: 0.0613\n",
            "Epoch 15/50\n",
            "12/12 [==============================] - 0s 12ms/step - loss: 0.0303 - mse: 0.0303 - val_loss: 0.0613 - val_mse: 0.0613\n",
            "Epoch 16/50\n",
            "12/12 [==============================] - 0s 10ms/step - loss: 0.0299 - mse: 0.0299 - val_loss: 0.0610 - val_mse: 0.0610\n",
            "Epoch 17/50\n",
            "12/12 [==============================] - 0s 7ms/step - loss: 0.0295 - mse: 0.0295 - val_loss: 0.0606 - val_mse: 0.0606\n",
            "Epoch 18/50\n",
            "12/12 [==============================] - 0s 7ms/step - loss: 0.0290 - mse: 0.0290 - val_loss: 0.0602 - val_mse: 0.0602\n",
            "Epoch 19/50\n",
            "12/12 [==============================] - 0s 7ms/step - loss: 0.0289 - mse: 0.0289 - val_loss: 0.0598 - val_mse: 0.0598\n",
            "Epoch 20/50\n",
            "12/12 [==============================] - 0s 6ms/step - loss: 0.0286 - mse: 0.0286 - val_loss: 0.0597 - val_mse: 0.0597\n",
            "Epoch 21/50\n",
            "12/12 [==============================] - 0s 13ms/step - loss: 0.0283 - mse: 0.0283 - val_loss: 0.0593 - val_mse: 0.0593\n",
            "Epoch 22/50\n",
            "12/12 [==============================] - 0s 17ms/step - loss: 0.0280 - mse: 0.0280 - val_loss: 0.0590 - val_mse: 0.0590\n",
            "Epoch 23/50\n",
            "12/12 [==============================] - 0s 18ms/step - loss: 0.0275 - mse: 0.0275 - val_loss: 0.0586 - val_mse: 0.0586\n",
            "Epoch 24/50\n",
            "12/12 [==============================] - 0s 15ms/step - loss: 0.0273 - mse: 0.0273 - val_loss: 0.0581 - val_mse: 0.0581\n",
            "Epoch 25/50\n",
            "12/12 [==============================] - 0s 11ms/step - loss: 0.0269 - mse: 0.0269 - val_loss: 0.0577 - val_mse: 0.0577\n",
            "Epoch 26/50\n",
            "12/12 [==============================] - 0s 7ms/step - loss: 0.0264 - mse: 0.0264 - val_loss: 0.0570 - val_mse: 0.0570\n",
            "Epoch 27/50\n",
            "12/12 [==============================] - 0s 14ms/step - loss: 0.0259 - mse: 0.0259 - val_loss: 0.0562 - val_mse: 0.0562\n",
            "Epoch 28/50\n",
            "12/12 [==============================] - 0s 10ms/step - loss: 0.0254 - mse: 0.0254 - val_loss: 0.0559 - val_mse: 0.0559\n",
            "Epoch 29/50\n",
            "12/12 [==============================] - 0s 13ms/step - loss: 0.0248 - mse: 0.0248 - val_loss: 0.0556 - val_mse: 0.0556\n",
            "Epoch 30/50\n",
            "12/12 [==============================] - 0s 10ms/step - loss: 0.0248 - mse: 0.0248 - val_loss: 0.0551 - val_mse: 0.0551\n",
            "Epoch 31/50\n",
            "12/12 [==============================] - 0s 14ms/step - loss: 0.0239 - mse: 0.0239 - val_loss: 0.0549 - val_mse: 0.0549\n",
            "Epoch 32/50\n",
            "12/12 [==============================] - 0s 6ms/step - loss: 0.0239 - mse: 0.0239 - val_loss: 0.0546 - val_mse: 0.0546\n",
            "Epoch 33/50\n",
            "12/12 [==============================] - 0s 9ms/step - loss: 0.0237 - mse: 0.0237 - val_loss: 0.0543 - val_mse: 0.0543\n",
            "Epoch 34/50\n",
            "12/12 [==============================] - 0s 11ms/step - loss: 0.0233 - mse: 0.0233 - val_loss: 0.0538 - val_mse: 0.0538\n",
            "Epoch 35/50\n",
            "12/12 [==============================] - 0s 12ms/step - loss: 0.0230 - mse: 0.0230 - val_loss: 0.0535 - val_mse: 0.0535\n",
            "Epoch 36/50\n",
            "12/12 [==============================] - 0s 8ms/step - loss: 0.0229 - mse: 0.0229 - val_loss: 0.0534 - val_mse: 0.0534\n",
            "Epoch 37/50\n",
            "12/12 [==============================] - 0s 6ms/step - loss: 0.0224 - mse: 0.0224 - val_loss: 0.0530 - val_mse: 0.0530\n",
            "Epoch 38/50\n",
            "12/12 [==============================] - 0s 6ms/step - loss: 0.0222 - mse: 0.0222 - val_loss: 0.0528 - val_mse: 0.0528\n",
            "Epoch 39/50\n",
            "12/12 [==============================] - 0s 7ms/step - loss: 0.0222 - mse: 0.0222 - val_loss: 0.0523 - val_mse: 0.0523\n",
            "Epoch 40/50\n",
            "12/12 [==============================] - 0s 11ms/step - loss: 0.0219 - mse: 0.0219 - val_loss: 0.0518 - val_mse: 0.0518\n",
            "Epoch 41/50\n",
            "12/12 [==============================] - 0s 8ms/step - loss: 0.0216 - mse: 0.0216 - val_loss: 0.0514 - val_mse: 0.0514\n",
            "Epoch 42/50\n",
            "12/12 [==============================] - 0s 10ms/step - loss: 0.0216 - mse: 0.0216 - val_loss: 0.0508 - val_mse: 0.0508\n",
            "Epoch 43/50\n",
            "12/12 [==============================] - 0s 8ms/step - loss: 0.0211 - mse: 0.0211 - val_loss: 0.0503 - val_mse: 0.0503\n",
            "Epoch 44/50\n",
            "12/12 [==============================] - 0s 8ms/step - loss: 0.0209 - mse: 0.0209 - val_loss: 0.0500 - val_mse: 0.0500\n",
            "Epoch 45/50\n",
            "12/12 [==============================] - 0s 7ms/step - loss: 0.0208 - mse: 0.0208 - val_loss: 0.0494 - val_mse: 0.0494\n",
            "Epoch 46/50\n",
            "12/12 [==============================] - 0s 10ms/step - loss: 0.0205 - mse: 0.0205 - val_loss: 0.0491 - val_mse: 0.0491\n",
            "Epoch 47/50\n",
            "12/12 [==============================] - 0s 15ms/step - loss: 0.0207 - mse: 0.0207 - val_loss: 0.0488 - val_mse: 0.0488\n",
            "Epoch 48/50\n",
            "12/12 [==============================] - 0s 8ms/step - loss: 0.0206 - mse: 0.0206 - val_loss: 0.0488 - val_mse: 0.0488\n",
            "Epoch 49/50\n",
            "12/12 [==============================] - 0s 12ms/step - loss: 0.0204 - mse: 0.0204 - val_loss: 0.0486 - val_mse: 0.0486\n",
            "Epoch 50/50\n",
            "12/12 [==============================] - 0s 11ms/step - loss: 0.0204 - mse: 0.0204 - val_loss: 0.0483 - val_mse: 0.0483\n"
          ]
        }
      ]
    },
    {
      "cell_type": "markdown",
      "source": [
        "## 3.b. Function to measure the performance of model in detecting outlier\n",
        "\n",
        "https://stackoverflow.com/questions/65398299/proper-inputs-for-scikit-learn-roc-auc-score-and-roc-plot"
      ],
      "metadata": {
        "id": "7TbA5Z-YPHWf"
      }
    },
    {
      "cell_type": "code",
      "source": [
        "def performance(model, X_test, plot = True):\n",
        "  \"\"\"\n",
        "  Measure performance of trained model mit AUC score using built-in function in sklearn\n",
        "\n",
        "  Arguments:\n",
        "    model -- trained model\n",
        "    X_test -- data which are used to test the trained model\n",
        "    plot -- True: plot the ROC curve. False: does not plot the ROC curve\n",
        "         \n",
        "  Returns: \n",
        "    AUC -- the AUC score\n",
        "    ROC curve\n",
        "  \"\"\"\n",
        "\n",
        "  # getting predictions (recontructions) of the test data\n",
        "  preds = model.predict(X_test)\n",
        "  # calculate the difference between predictions and test data using mean square error\n",
        "  pred_errors = tf.keras.losses.mse(preds, X_test)\n",
        "  # Check the prediction performance\n",
        "  auc_score = roc_auc_score(y_test, pred_errors)\n",
        "  if not plot:\n",
        "    print(f\"AUC score: {auc_score}\")\n",
        "  else:\n",
        "    preds = model.predict(X_test)\n",
        "    # calculate the fpr and tpr for all thresholds of the classification\n",
        "    fpr, tpr, threshold = roc_curve(y_test, pred_errors)\n",
        "    plt.title('Receiver Operating Characteristic')\n",
        "    plt.plot(fpr, tpr, 'g', label = 'AUC = %0.2f' % auc_score)\n",
        "    plt.legend(loc = 'lower right')\n",
        "    plt.plot([0, 1], [0, 1],'r--')\n",
        "    plt.ylabel('True Positive Rate')\n",
        "    plt.xlabel('False Positive Rate')\n",
        "    plt.show()"
      ],
      "metadata": {
        "id": "yYSdE7rVPWUn"
      },
      "execution_count": 13,
      "outputs": []
    },
    {
      "cell_type": "code",
      "source": [
        "performance(autoencoder, X_test_scaled)"
      ],
      "metadata": {
        "colab": {
          "base_uri": "https://localhost:8080/",
          "height": 507
        },
        "id": "FzXuIaJ_WUNO",
        "outputId": "ff631882-702c-4897-d880-8b6f594e4a49"
      },
      "execution_count": 14,
      "outputs": [
        {
          "output_type": "stream",
          "name": "stdout",
          "text": [
            "11/11 [==============================] - 0s 2ms/step\n",
            "11/11 [==============================] - 0s 2ms/step\n"
          ]
        },
        {
          "output_type": "display_data",
          "data": {
            "text/plain": [
              "<Figure size 640x480 with 1 Axes>"
            ],
            "image/png": "[encoded data removed]"
          },
          "metadata": {}
        }
      ]
    },
    {
      "cell_type": "code",
      "source": [
        "# Plot the training and validation accuracy and loss at each epoch\n",
        "loss = history.history['loss']\n",
        "val_loss = history.history['val_loss']\n",
        "epochs = range(1, len(loss) + 1)\n",
        "plt.plot(epochs, loss, 'g', label='Training loss')\n",
        "plt.plot(epochs, val_loss, 'r', label='Validation loss')\n",
        "plt.title('Training and validation loss')\n",
        "plt.xlabel('Epochs')\n",
        "plt.ylabel('Loss')\n",
        "plt.legend()\n",
        "plt.show()"
      ],
      "metadata": {
        "colab": {
          "base_uri": "https://localhost:8080/",
          "height": 472
        },
        "id": "HQwq1Ef0blpd",
        "outputId": "58af11bb-1312-40c5-bef8-c7ca0d59eaf4"
      },
      "execution_count": 15,
      "outputs": [
        {
          "output_type": "display_data",
          "data": {
            "text/plain": [
              "<Figure size 640x480 with 1 Axes>"
            ],
            "image/png": "[encoded data removed]"
          },
          "metadata": {}
        }
      ]
    },
    {
      "cell_type": "markdown",
      "source": [
        "## 3.c. Training a model using the loss function `Huber`\n",
        "\n",
        "Pros of Huber:\n",
        "\n",
        "* It is differentiable at zero.\n",
        "* Outliers are handled properly due to the linearity above delta.\n",
        "* The hyperparameter, 𝛿 can be tuned to maximize model accuracy.\n",
        "\n",
        "https://www.tensorflow.org/api_docs/python/tf/keras/losses/Huber"
      ],
      "metadata": {
        "id": "HrtVpFHSXioF"
      }
    },
    {
      "cell_type": "code",
      "source": [
        "# Set random seed\n",
        "tf.keras.utils.set_random_seed(42)\n",
        "\n",
        "# Create autoencoder model\n",
        "autoencoder_v2 = AutoencoderV2(input_dim=X_train_scaled.shape[1])\n",
        "\n",
        "# Loss and optimizer definition\n",
        "autoencoder_v2.compile(optimizer=tf.keras.optimizers.Adam(),\n",
        "                    loss=tf.keras.losses.Huber(),  \n",
        "                    metrics=['mse']) \n",
        "\n",
        "# Training model\n",
        "EPOCHS = 50\n",
        "BATCH_SIZE = 128\n",
        "\n",
        "# Fit the autoencoder\n",
        "history_v2= autoencoder_v2.fit(x=X_train_scaled, \n",
        "                          y=X_train_scaled,\n",
        "                          epochs=EPOCHS,\n",
        "                          batch_size=BATCH_SIZE,\n",
        "                          validation_data=(X_test_scaled, X_test_scaled),\n",
        "                          shuffle=True)"
      ],
      "metadata": {
        "colab": {
          "base_uri": "https://localhost:8080/"
        },
        "id": "QbslUcTeXh6-",
        "outputId": "a89ae347-2f95-4761-e398-0c0d5577669a"
      },
      "execution_count": 16,
      "outputs": [
        {
          "output_type": "stream",
          "name": "stdout",
          "text": [
            "Epoch 1/50\n",
            "12/12 [==============================] - 2s 17ms/step - loss: 0.0588 - mse: 0.1176 - val_loss: 0.0671 - val_mse: 0.1341\n",
            "Epoch 2/50\n",
            "12/12 [==============================] - 0s 4ms/step - loss: 0.0574 - mse: 0.1149 - val_loss: 0.0657 - val_mse: 0.1314\n",
            "Epoch 3/50\n",
            "12/12 [==============================] - 0s 4ms/step - loss: 0.0555 - mse: 0.1111 - val_loss: 0.0635 - val_mse: 0.1270\n",
            "Epoch 4/50\n",
            "12/12 [==============================] - 0s 5ms/step - loss: 0.0522 - mse: 0.1044 - val_loss: 0.0593 - val_mse: 0.1186\n",
            "Epoch 5/50\n",
            "12/12 [==============================] - 0s 4ms/step - loss: 0.0451 - mse: 0.0903 - val_loss: 0.0501 - val_mse: 0.1002\n",
            "Epoch 6/50\n",
            "12/12 [==============================] - 0s 5ms/step - loss: 0.0328 - mse: 0.0655 - val_loss: 0.0399 - val_mse: 0.0800\n",
            "Epoch 7/50\n",
            "12/12 [==============================] - 0s 5ms/step - loss: 0.0237 - mse: 0.0474 - val_loss: 0.0348 - val_mse: 0.0700\n",
            "Epoch 8/50\n",
            "12/12 [==============================] - 0s 6ms/step - loss: 0.0192 - mse: 0.0383 - val_loss: 0.0316 - val_mse: 0.0636\n",
            "Epoch 9/50\n",
            "12/12 [==============================] - 0s 4ms/step - loss: 0.0175 - mse: 0.0351 - val_loss: 0.0318 - val_mse: 0.0641\n",
            "Epoch 10/50\n",
            "12/12 [==============================] - 0s 4ms/step - loss: 0.0169 - mse: 0.0338 - val_loss: 0.0319 - val_mse: 0.0642\n",
            "Epoch 11/50\n",
            "12/12 [==============================] - 0s 4ms/step - loss: 0.0164 - mse: 0.0329 - val_loss: 0.0315 - val_mse: 0.0634\n",
            "Epoch 12/50\n",
            "12/12 [==============================] - 0s 6ms/step - loss: 0.0159 - mse: 0.0319 - val_loss: 0.0310 - val_mse: 0.0625\n",
            "Epoch 13/50\n",
            "12/12 [==============================] - 0s 4ms/step - loss: 0.0155 - mse: 0.0311 - val_loss: 0.0307 - val_mse: 0.0618\n",
            "Epoch 14/50\n",
            "12/12 [==============================] - 0s 6ms/step - loss: 0.0153 - mse: 0.0306 - val_loss: 0.0305 - val_mse: 0.0614\n",
            "Epoch 15/50\n",
            "12/12 [==============================] - 0s 6ms/step - loss: 0.0151 - mse: 0.0303 - val_loss: 0.0304 - val_mse: 0.0613\n",
            "Epoch 16/50\n",
            "12/12 [==============================] - 0s 4ms/step - loss: 0.0150 - mse: 0.0299 - val_loss: 0.0303 - val_mse: 0.0610\n",
            "Epoch 17/50\n",
            "12/12 [==============================] - 0s 5ms/step - loss: 0.0147 - mse: 0.0295 - val_loss: 0.0301 - val_mse: 0.0607\n",
            "Epoch 18/50\n",
            "12/12 [==============================] - 0s 5ms/step - loss: 0.0145 - mse: 0.0291 - val_loss: 0.0299 - val_mse: 0.0603\n",
            "Epoch 19/50\n",
            "12/12 [==============================] - 0s 4ms/step - loss: 0.0145 - mse: 0.0289 - val_loss: 0.0297 - val_mse: 0.0599\n",
            "Epoch 20/50\n",
            "12/12 [==============================] - 0s 4ms/step - loss: 0.0143 - mse: 0.0287 - val_loss: 0.0297 - val_mse: 0.0598\n",
            "Epoch 21/50\n",
            "12/12 [==============================] - 0s 4ms/step - loss: 0.0141 - mse: 0.0283 - val_loss: 0.0295 - val_mse: 0.0594\n",
            "Epoch 22/50\n",
            "12/12 [==============================] - 0s 4ms/step - loss: 0.0140 - mse: 0.0280 - val_loss: 0.0293 - val_mse: 0.0591\n",
            "Epoch 23/50\n",
            "12/12 [==============================] - 0s 4ms/step - loss: 0.0138 - mse: 0.0275 - val_loss: 0.0291 - val_mse: 0.0587\n",
            "Epoch 24/50\n",
            "12/12 [==============================] - 0s 6ms/step - loss: 0.0137 - mse: 0.0273 - val_loss: 0.0289 - val_mse: 0.0582\n",
            "Epoch 25/50\n",
            "12/12 [==============================] - 0s 5ms/step - loss: 0.0135 - mse: 0.0269 - val_loss: 0.0287 - val_mse: 0.0578\n",
            "Epoch 26/50\n",
            "12/12 [==============================] - 0s 4ms/step - loss: 0.0132 - mse: 0.0265 - val_loss: 0.0283 - val_mse: 0.0571\n",
            "Epoch 27/50\n",
            "12/12 [==============================] - 0s 4ms/step - loss: 0.0130 - mse: 0.0260 - val_loss: 0.0280 - val_mse: 0.0564\n",
            "Epoch 28/50\n",
            "12/12 [==============================] - 0s 4ms/step - loss: 0.0127 - mse: 0.0255 - val_loss: 0.0278 - val_mse: 0.0560\n",
            "Epoch 29/50\n",
            "12/12 [==============================] - 0s 4ms/step - loss: 0.0124 - mse: 0.0249 - val_loss: 0.0276 - val_mse: 0.0557\n",
            "Epoch 30/50\n",
            "12/12 [==============================] - 0s 6ms/step - loss: 0.0124 - mse: 0.0248 - val_loss: 0.0274 - val_mse: 0.0552\n",
            "Epoch 31/50\n",
            "12/12 [==============================] - 0s 4ms/step - loss: 0.0120 - mse: 0.0239 - val_loss: 0.0272 - val_mse: 0.0549\n",
            "Epoch 32/50\n",
            "12/12 [==============================] - 0s 6ms/step - loss: 0.0119 - mse: 0.0238 - val_loss: 0.0271 - val_mse: 0.0546\n",
            "Epoch 33/50\n",
            "12/12 [==============================] - 0s 4ms/step - loss: 0.0118 - mse: 0.0236 - val_loss: 0.0269 - val_mse: 0.0543\n",
            "Epoch 34/50\n",
            "12/12 [==============================] - 0s 4ms/step - loss: 0.0116 - mse: 0.0232 - val_loss: 0.0266 - val_mse: 0.0537\n",
            "Epoch 35/50\n",
            "12/12 [==============================] - 0s 5ms/step - loss: 0.0114 - mse: 0.0229 - val_loss: 0.0264 - val_mse: 0.0533\n",
            "Epoch 36/50\n",
            "12/12 [==============================] - 0s 4ms/step - loss: 0.0113 - mse: 0.0227 - val_loss: 0.0263 - val_mse: 0.0530\n",
            "Epoch 37/50\n",
            "12/12 [==============================] - 0s 6ms/step - loss: 0.0111 - mse: 0.0222 - val_loss: 0.0260 - val_mse: 0.0524\n",
            "Epoch 38/50\n",
            "12/12 [==============================] - 0s 4ms/step - loss: 0.0110 - mse: 0.0221 - val_loss: 0.0258 - val_mse: 0.0520\n",
            "Epoch 39/50\n",
            "12/12 [==============================] - 0s 4ms/step - loss: 0.0110 - mse: 0.0219 - val_loss: 0.0254 - val_mse: 0.0512\n",
            "Epoch 40/50\n",
            "12/12 [==============================] - 0s 5ms/step - loss: 0.0108 - mse: 0.0217 - val_loss: 0.0251 - val_mse: 0.0507\n",
            "Epoch 41/50\n",
            "12/12 [==============================] - 0s 6ms/step - loss: 0.0107 - mse: 0.0214 - val_loss: 0.0249 - val_mse: 0.0503\n",
            "Epoch 42/50\n",
            "12/12 [==============================] - 0s 4ms/step - loss: 0.0107 - mse: 0.0214 - val_loss: 0.0246 - val_mse: 0.0497\n",
            "Epoch 43/50\n",
            "12/12 [==============================] - 0s 6ms/step - loss: 0.0105 - mse: 0.0209 - val_loss: 0.0245 - val_mse: 0.0494\n",
            "Epoch 44/50\n",
            "12/12 [==============================] - 0s 4ms/step - loss: 0.0104 - mse: 0.0207 - val_loss: 0.0243 - val_mse: 0.0491\n",
            "Epoch 45/50\n",
            "12/12 [==============================] - 0s 5ms/step - loss: 0.0103 - mse: 0.0206 - val_loss: 0.0241 - val_mse: 0.0487\n",
            "Epoch 46/50\n",
            "12/12 [==============================] - 0s 4ms/step - loss: 0.0102 - mse: 0.0204 - val_loss: 0.0239 - val_mse: 0.0483\n",
            "Epoch 47/50\n",
            "12/12 [==============================] - 0s 5ms/step - loss: 0.0103 - mse: 0.0206 - val_loss: 0.0238 - val_mse: 0.0481\n",
            "Epoch 48/50\n",
            "12/12 [==============================] - 0s 6ms/step - loss: 0.0103 - mse: 0.0205 - val_loss: 0.0239 - val_mse: 0.0482\n",
            "Epoch 49/50\n",
            "12/12 [==============================] - 0s 4ms/step - loss: 0.0101 - mse: 0.0203 - val_loss: 0.0238 - val_mse: 0.0481\n",
            "Epoch 50/50\n",
            "12/12 [==============================] - 0s 7ms/step - loss: 0.0101 - mse: 0.0203 - val_loss: 0.0237 - val_mse: 0.0478\n"
          ]
        }
      ]
    },
    {
      "cell_type": "code",
      "source": [
        "performance(autoencoder_v2, X_test_scaled)"
      ],
      "metadata": {
        "colab": {
          "base_uri": "https://localhost:8080/",
          "height": 507
        },
        "id": "8w02tRPpZ6gW",
        "outputId": "944bd55e-06d5-4976-f79b-89b97fbc384b"
      },
      "execution_count": 17,
      "outputs": [
        {
          "output_type": "stream",
          "name": "stdout",
          "text": [
            "11/11 [==============================] - 0s 1ms/step\n",
            "11/11 [==============================] - 0s 1ms/step\n"
          ]
        },
        {
          "output_type": "display_data",
          "data": {
            "text/plain": [
              "<Figure size 640x480 with 1 Axes>"
            ],
            "image/png": "[encoded data removed]"
          },
          "metadata": {}
        }
      ]
    },
    {
      "cell_type": "markdown",
      "source": [
        "# 4. Test new architecture of model"
      ],
      "metadata": {
        "id": "0w64Z-Hwb7xc"
      }
    },
    {
      "cell_type": "code",
      "source": [
        "# Create a model by subclassing Model class in tensorflow\n",
        "class AutoencoderV3(Model):\n",
        "  \"\"\"\n",
        "  An autoencoder with Encoder and decoder blocks\n",
        "  \n",
        "  Arguments:\n",
        "    input_dim -- number of NN units at layer 0 (input)\n",
        "         \n",
        "  Returns: \n",
        "    autoencoder -- autoencoder Model\n",
        "  \"\"\"\n",
        "\n",
        "  def __init__(self, input_dim):\n",
        "    super().__init__()\n",
        "    # encoder block\n",
        "    self.encoder = Sequential([\n",
        "        Dense(32, activation='relu'),\n",
        "        Dropout(0.1),\n",
        "        Dense(16, activation='relu'),\n",
        "        Dropout(0.1),\n",
        "        Dense(8, activation='relu'),\n",
        "    ])\n",
        "    # Decoder block\n",
        "    self.decoder = Sequential([\n",
        "        Dense(16, activation='relu'),\n",
        "        Dropout(0.1),\n",
        "        Dense(32, activation='relu'),\n",
        "        Dropout(0.1),\n",
        "        Dense(input_dim, activation='sigmoid')\n",
        "    ])\n",
        "\n",
        "  def call(self, inputs):\n",
        "    encode = self.encoder(inputs)\n",
        "    decode = self.decoder(encode)\n",
        "    return decode"
      ],
      "metadata": {
        "id": "1mx9aEaeb1Vb"
      },
      "execution_count": 18,
      "outputs": []
    },
    {
      "cell_type": "code",
      "source": [
        "# Set random seed\n",
        "tf.keras.utils.set_random_seed(42)\n",
        "\n",
        "# Create autoencoder model\n",
        "model_v1 = AutoencoderV3(input_dim=X_train_scaled.shape[1])\n",
        "\n",
        "# Loss and optimizer definition\n",
        "model_v1.compile(optimizer=tf.keras.optimizers.Adam(),\n",
        "                    loss='mse',  #  Computes the mean squared logarithmic error between y_true & y_pred.\n",
        "                    metrics=['mse']) \n",
        "\n",
        "# Training model\n",
        "EPOCHS = 50\n",
        "BATCH_SIZE = 128\n",
        "\n",
        "# Fit the autoencoder\n",
        "history_v3 = model_v1.fit(x=X_train_scaled, \n",
        "                          y=X_train_scaled,\n",
        "                          epochs=EPOCHS,\n",
        "                          batch_size=BATCH_SIZE,\n",
        "                          validation_data=(X_test_scaled, X_test_scaled),\n",
        "                          shuffle=True)"
      ],
      "metadata": {
        "colab": {
          "base_uri": "https://localhost:8080/"
        },
        "id": "n6v4Sp2Ub1oS",
        "outputId": "a0f1ee4d-b6eb-4637-8702-a80501c4eda1"
      },
      "execution_count": 19,
      "outputs": [
        {
          "output_type": "stream",
          "name": "stdout",
          "text": [
            "Epoch 1/50\n",
            "12/12 [==============================] - 1s 15ms/step - loss: 0.1162 - mse: 0.1162 - val_loss: 0.1299 - val_mse: 0.1299\n",
            "Epoch 2/50\n",
            "12/12 [==============================] - 0s 5ms/step - loss: 0.1085 - mse: 0.1085 - val_loss: 0.1189 - val_mse: 0.1189\n",
            "Epoch 3/50\n",
            "12/12 [==============================] - 0s 4ms/step - loss: 0.0943 - mse: 0.0943 - val_loss: 0.1007 - val_mse: 0.1007\n",
            "Epoch 4/50\n",
            "12/12 [==============================] - 0s 5ms/step - loss: 0.0715 - mse: 0.0715 - val_loss: 0.0805 - val_mse: 0.0805\n",
            "Epoch 5/50\n",
            "12/12 [==============================] - 0s 3ms/step - loss: 0.0493 - mse: 0.0493 - val_loss: 0.0690 - val_mse: 0.0690\n",
            "Epoch 6/50\n",
            "12/12 [==============================] - 0s 4ms/step - loss: 0.0388 - mse: 0.0388 - val_loss: 0.0645 - val_mse: 0.0645\n",
            "Epoch 7/50\n",
            "12/12 [==============================] - 0s 4ms/step - loss: 0.0358 - mse: 0.0358 - val_loss: 0.0635 - val_mse: 0.0635\n",
            "Epoch 8/50\n",
            "12/12 [==============================] - 0s 4ms/step - loss: 0.0345 - mse: 0.0345 - val_loss: 0.0639 - val_mse: 0.0639\n",
            "Epoch 9/50\n",
            "12/12 [==============================] - 0s 4ms/step - loss: 0.0335 - mse: 0.0335 - val_loss: 0.0634 - val_mse: 0.0634\n",
            "Epoch 10/50\n",
            "12/12 [==============================] - 0s 4ms/step - loss: 0.0328 - mse: 0.0328 - val_loss: 0.0625 - val_mse: 0.0625\n",
            "Epoch 11/50\n",
            "12/12 [==============================] - 0s 4ms/step - loss: 0.0324 - mse: 0.0324 - val_loss: 0.0620 - val_mse: 0.0620\n",
            "Epoch 12/50\n",
            "12/12 [==============================] - 0s 4ms/step - loss: 0.0319 - mse: 0.0319 - val_loss: 0.0611 - val_mse: 0.0611\n",
            "Epoch 13/50\n",
            "12/12 [==============================] - 0s 5ms/step - loss: 0.0312 - mse: 0.0312 - val_loss: 0.0603 - val_mse: 0.0603\n",
            "Epoch 14/50\n",
            "12/12 [==============================] - 0s 4ms/step - loss: 0.0308 - mse: 0.0308 - val_loss: 0.0595 - val_mse: 0.0595\n",
            "Epoch 15/50\n",
            "12/12 [==============================] - 0s 4ms/step - loss: 0.0302 - mse: 0.0302 - val_loss: 0.0586 - val_mse: 0.0586\n",
            "Epoch 16/50\n",
            "12/12 [==============================] - 0s 4ms/step - loss: 0.0290 - mse: 0.0290 - val_loss: 0.0579 - val_mse: 0.0579\n",
            "Epoch 17/50\n",
            "12/12 [==============================] - 0s 5ms/step - loss: 0.0285 - mse: 0.0285 - val_loss: 0.0571 - val_mse: 0.0571\n",
            "Epoch 18/50\n",
            "12/12 [==============================] - 0s 4ms/step - loss: 0.0276 - mse: 0.0276 - val_loss: 0.0564 - val_mse: 0.0564\n",
            "Epoch 19/50\n",
            "12/12 [==============================] - 0s 4ms/step - loss: 0.0267 - mse: 0.0267 - val_loss: 0.0555 - val_mse: 0.0555\n",
            "Epoch 20/50\n",
            "12/12 [==============================] - 0s 4ms/step - loss: 0.0254 - mse: 0.0254 - val_loss: 0.0548 - val_mse: 0.0548\n",
            "Epoch 21/50\n",
            "12/12 [==============================] - 0s 5ms/step - loss: 0.0247 - mse: 0.0247 - val_loss: 0.0543 - val_mse: 0.0543\n",
            "Epoch 22/50\n",
            "12/12 [==============================] - 0s 6ms/step - loss: 0.0241 - mse: 0.0241 - val_loss: 0.0541 - val_mse: 0.0541\n",
            "Epoch 23/50\n",
            "12/12 [==============================] - 0s 4ms/step - loss: 0.0234 - mse: 0.0234 - val_loss: 0.0536 - val_mse: 0.0536\n",
            "Epoch 24/50\n",
            "12/12 [==============================] - 0s 4ms/step - loss: 0.0233 - mse: 0.0233 - val_loss: 0.0534 - val_mse: 0.0534\n",
            "Epoch 25/50\n",
            "12/12 [==============================] - 0s 4ms/step - loss: 0.0229 - mse: 0.0229 - val_loss: 0.0531 - val_mse: 0.0531\n",
            "Epoch 26/50\n",
            "12/12 [==============================] - 0s 5ms/step - loss: 0.0227 - mse: 0.0227 - val_loss: 0.0528 - val_mse: 0.0528\n",
            "Epoch 27/50\n",
            "12/12 [==============================] - 0s 4ms/step - loss: 0.0224 - mse: 0.0224 - val_loss: 0.0526 - val_mse: 0.0526\n",
            "Epoch 28/50\n",
            "12/12 [==============================] - 0s 4ms/step - loss: 0.0222 - mse: 0.0222 - val_loss: 0.0523 - val_mse: 0.0523\n",
            "Epoch 29/50\n",
            "12/12 [==============================] - 0s 4ms/step - loss: 0.0218 - mse: 0.0218 - val_loss: 0.0522 - val_mse: 0.0522\n",
            "Epoch 30/50\n",
            "12/12 [==============================] - 0s 3ms/step - loss: 0.0216 - mse: 0.0216 - val_loss: 0.0519 - val_mse: 0.0519\n",
            "Epoch 31/50\n",
            "12/12 [==============================] - 0s 3ms/step - loss: 0.0213 - mse: 0.0213 - val_loss: 0.0518 - val_mse: 0.0518\n",
            "Epoch 32/50\n",
            "12/12 [==============================] - 0s 5ms/step - loss: 0.0213 - mse: 0.0213 - val_loss: 0.0516 - val_mse: 0.0516\n",
            "Epoch 33/50\n",
            "12/12 [==============================] - 0s 6ms/step - loss: 0.0213 - mse: 0.0213 - val_loss: 0.0515 - val_mse: 0.0515\n",
            "Epoch 34/50\n",
            "12/12 [==============================] - 0s 4ms/step - loss: 0.0212 - mse: 0.0212 - val_loss: 0.0511 - val_mse: 0.0511\n",
            "Epoch 35/50\n",
            "12/12 [==============================] - 0s 6ms/step - loss: 0.0211 - mse: 0.0211 - val_loss: 0.0509 - val_mse: 0.0509\n",
            "Epoch 36/50\n",
            "12/12 [==============================] - 0s 5ms/step - loss: 0.0207 - mse: 0.0207 - val_loss: 0.0510 - val_mse: 0.0510\n",
            "Epoch 37/50\n",
            "12/12 [==============================] - 0s 5ms/step - loss: 0.0205 - mse: 0.0205 - val_loss: 0.0505 - val_mse: 0.0505\n",
            "Epoch 38/50\n",
            "12/12 [==============================] - 0s 5ms/step - loss: 0.0204 - mse: 0.0204 - val_loss: 0.0502 - val_mse: 0.0502\n",
            "Epoch 39/50\n",
            "12/12 [==============================] - 0s 5ms/step - loss: 0.0202 - mse: 0.0202 - val_loss: 0.0497 - val_mse: 0.0497\n",
            "Epoch 40/50\n",
            "12/12 [==============================] - 0s 4ms/step - loss: 0.0202 - mse: 0.0202 - val_loss: 0.0496 - val_mse: 0.0496\n",
            "Epoch 41/50\n",
            "12/12 [==============================] - 0s 5ms/step - loss: 0.0199 - mse: 0.0199 - val_loss: 0.0491 - val_mse: 0.0491\n",
            "Epoch 42/50\n",
            "12/12 [==============================] - 0s 6ms/step - loss: 0.0198 - mse: 0.0198 - val_loss: 0.0485 - val_mse: 0.0485\n",
            "Epoch 43/50\n",
            "12/12 [==============================] - 0s 4ms/step - loss: 0.0192 - mse: 0.0192 - val_loss: 0.0478 - val_mse: 0.0478\n",
            "Epoch 44/50\n",
            "12/12 [==============================] - 0s 5ms/step - loss: 0.0191 - mse: 0.0191 - val_loss: 0.0471 - val_mse: 0.0471\n",
            "Epoch 45/50\n",
            "12/12 [==============================] - 0s 6ms/step - loss: 0.0189 - mse: 0.0189 - val_loss: 0.0464 - val_mse: 0.0464\n",
            "Epoch 46/50\n",
            "12/12 [==============================] - 0s 4ms/step - loss: 0.0188 - mse: 0.0188 - val_loss: 0.0458 - val_mse: 0.0458\n",
            "Epoch 47/50\n",
            "12/12 [==============================] - 0s 4ms/step - loss: 0.0184 - mse: 0.0184 - val_loss: 0.0452 - val_mse: 0.0452\n",
            "Epoch 48/50\n",
            "12/12 [==============================] - 0s 4ms/step - loss: 0.0181 - mse: 0.0181 - val_loss: 0.0448 - val_mse: 0.0448\n",
            "Epoch 49/50\n",
            "12/12 [==============================] - 0s 4ms/step - loss: 0.0178 - mse: 0.0178 - val_loss: 0.0443 - val_mse: 0.0443\n",
            "Epoch 50/50\n",
            "12/12 [==============================] - 0s 4ms/step - loss: 0.0177 - mse: 0.0177 - val_loss: 0.0436 - val_mse: 0.0436\n"
          ]
        }
      ]
    },
    {
      "cell_type": "code",
      "source": [
        "performance(model_v1, X_test_scaled)"
      ],
      "metadata": {
        "colab": {
          "base_uri": "https://localhost:8080/",
          "height": 507
        },
        "id": "tbvs-cB8b1xj",
        "outputId": "9b8f4a8d-c909-40ab-d319-a8664d394b20"
      },
      "execution_count": 20,
      "outputs": [
        {
          "output_type": "stream",
          "name": "stdout",
          "text": [
            "11/11 [==============================] - 0s 1ms/step\n",
            "11/11 [==============================] - 0s 1ms/step\n"
          ]
        },
        {
          "output_type": "display_data",
          "data": {
            "text/plain": [
              "<Figure size 640x480 with 1 Axes>"
            ],
            "image/png": "[encoded data removed]"
          },
          "metadata": {}
        }
      ]
    },
    {
      "cell_type": "markdown",
      "source": [
        "# 5. Save and load the best model\n",
        "\n",
        "- the best model here is `autoencoder` with AUC = 97%"
      ],
      "metadata": {
        "id": "kqtInD6McY9F"
      }
    },
    {
      "cell_type": "code",
      "source": [
        "# Save the entire model as a SavedModel.\n",
        "!mkdir -p saved_model\n",
        "autoencoder.save('saved_model/my_model')"
      ],
      "metadata": {
        "colab": {
          "base_uri": "https://localhost:8080/"
        },
        "id": "QhV4LNktb16z",
        "outputId": "da259c2a-e1a7-459a-c51b-af4efba1132c"
      },
      "execution_count": 21,
      "outputs": [
        {
          "output_type": "stream",
          "name": "stderr",
          "text": [
            "WARNING:absl:Found untraced functions such as _update_step_xla while saving (showing 1 of 1). These functions will not be directly callable after loading.\n"
          ]
        }
      ]
    },
    {
      "cell_type": "code",
      "source": [
        "# Reload the saved model\n",
        "new_model = tf.keras.models.load_model('saved_model/my_model')"
      ],
      "metadata": {
        "id": "Pjy-S_UzcmnU"
      },
      "execution_count": 22,
      "outputs": []
    },
    {
      "cell_type": "markdown",
      "source": [
        "# 6. Ensemble Model\n",
        "\n",
        "Build not only a single autoencoder, but an ensemble of them: \n",
        "\n",
        "  * first build multiple autoencoder (in a loop)\n",
        "  * then average their anomaly scores (first calculate the difference between inputs and theirs predictions, then average it)\n",
        "  * Calculate the final auc score\n",
        "\n",
        "Then create a plot, showing how this final auc score depends on the\n",
        "number of models used.\n",
        "\n",
        "\n",
        "*Example for using tf.math.reduce_mean()*: https://i0.wp.com/www.datasciencelearner.com/wp-content/uploads/2021/08/Mean-of-tensor-of-Multi-dimensional-row-wise.jpg?ssl=1"
      ],
      "metadata": {
        "id": "kN7mABV69R-N"
      }
    },
    {
      "cell_type": "code",
      "source": [
        "def ensemble_model(model_architecture, seed_list, X_train, X_test, y_test, plot=True):\n",
        "  \"\"\"\n",
        "  Create an ensemble model, which use an unique architecture, but with different numbers of random seed. \n",
        "  By setting a different random seed, we get a new model with the same architecture\n",
        "\n",
        "  Arguments:\n",
        "    model_architecture -- architecture of model, which is used to train model\n",
        "    seed_list -- a list of numbers which are used to set random seed for the model\n",
        "    X_train -- data which are used to train the model\n",
        "    X_test -- data which are used to test the trained model\n",
        "    y_test -- true labels of X_test\n",
        "    plot -- True: plot the ROC curve. False: does not plot the ROC curve\n",
        "         \n",
        "  Returns: \n",
        "    avg_preds -- the average of predictions errors (the difference between inputs and their predictions) of all models in ensemble model\n",
        "    auc_score -- the AUC score of ensemble model\n",
        "    ROC curve\n",
        "  \"\"\"\n",
        "\n",
        "  # list of pred_errors. Each element contains all the difference between inputs and their predictions of one model\n",
        "  pred_errors_list = []\n",
        "\n",
        "  for SEED in seed_list:\n",
        "    # Set random seed\n",
        "    tf.keras.utils.set_random_seed(SEED)\n",
        "\n",
        "    # Create autoencoder model\n",
        "    autoencoder = model_architecture(input_dim=X_train.shape[1])\n",
        "\n",
        "    # Loss and optimizer definition\n",
        "    autoencoder.compile(optimizer=tf.keras.optimizers.Adam(),\n",
        "                        loss='mse',  #  Computes the mean of squares of errors between y_true & y_pred.\n",
        "                        metrics=['mse']) \n",
        "\n",
        "    # Training model\n",
        "    EPOCHS = 50\n",
        "    BATCH_SIZE = 128\n",
        "\n",
        "    # Fit the autoencoder\n",
        "    history= autoencoder.fit(x=X_train, \n",
        "                              y=X_train,\n",
        "                              epochs=EPOCHS,\n",
        "                              batch_size=BATCH_SIZE,\n",
        "                              validation_data=(X_test, X_test),\n",
        "                              verbose=0,\n",
        "                              shuffle=True)\n",
        "    \n",
        "    # getting predictions (recontructions) of the test data\n",
        "    preds = autoencoder.predict(X_test)\n",
        "    # calculate the difference between preds and test data using mean square error\n",
        "    pred_errors = tf.keras.losses.mse(preds, X_test)\n",
        "    # append pred_error to the pred_errors_list\n",
        "    pred_errors_list.append(pred_errors)\n",
        "  \n",
        "  # convert pred_errors_list to a tensor\n",
        "  preds_tensor = tf.convert_to_tensor(pred_errors_list)\n",
        "  # calculate the average of all pred_errors in the pred_errors_list. We set axis=0, so that the average is calculated by row-weise. \n",
        "  avg_preds = tf.math.reduce_mean(preds_tensor, axis=0)\n",
        "  # AUC score of the average pred_errors of all models vs. y_test\n",
        "  auc_score = roc_auc_score(y_test, avg_preds)\n",
        "  if not plot:\n",
        "    print(f\"AUC score: {auc_score}\")\n",
        "  else:\n",
        "    preds = autoencoder.predict(X_test)\n",
        "    # calculate the fpr and tpr for all thresholds of the classification\n",
        "    fpr, tpr, threshold = roc_curve(y_test, avg_preds)\n",
        "    plt.title('Receiver Operating Characteristic')\n",
        "    plt.plot(fpr, tpr, 'g', label = 'AUC = %0.2f' % auc_score)\n",
        "    plt.legend(loc = 'lower right')\n",
        "    plt.plot([0, 1], [0, 1],'r--')\n",
        "    plt.ylabel('True Positive Rate')\n",
        "    plt.xlabel('False Positive Rate')\n",
        "    plt.show()\n",
        "  \n",
        "  return auc_score, avg_preds\n"
      ],
      "metadata": {
        "id": "OIge4i9zAUMe"
      },
      "execution_count": 23,
      "outputs": []
    },
    {
      "cell_type": "code",
      "source": [
        "# Initializing a list of SEED \n",
        "SEED_LIST = [i for i in range(6, 12)]\n",
        "\n",
        "auc_score, avg_preds = ensemble_model(AutoencoderV2, SEED_LIST, X_train_scaled, X_test_scaled, y_test, plot=True)"
      ],
      "metadata": {
        "colab": {
          "base_uri": "https://localhost:8080/",
          "height": 593
        },
        "id": "PwHDwBSoPmBK",
        "outputId": "dd3a13f1-be38-409c-d0b6-9c73dd9f4173"
      },
      "execution_count": 24,
      "outputs": [
        {
          "output_type": "stream",
          "name": "stdout",
          "text": [
            "11/11 [==============================] - 0s 1ms/step\n",
            "11/11 [==============================] - 0s 1ms/step\n",
            "11/11 [==============================] - 0s 1ms/step\n",
            "11/11 [==============================] - 0s 1ms/step\n",
            "11/11 [==============================] - 0s 1ms/step\n",
            "11/11 [==============================] - 0s 1ms/step\n",
            "11/11 [==============================] - 0s 1ms/step\n"
          ]
        },
        {
          "output_type": "display_data",
          "data": {
            "text/plain": [
              "<Figure size 640x480 with 1 Axes>"
            ],
            "image/png": "[encoded data removed]"
          },
          "metadata": {}
        }
      ]
    },
    {
      "cell_type": "code",
      "source": [
        "def plot_auc_models(model_architecture, num_models_list, X_train, X_test, y_test):\n",
        "  \"\"\"\n",
        "  create a plot, showing how this final auc score of ensemble model depends on the number of models used.\n",
        "\n",
        "  Arguments:\n",
        "    model_architecture -- architecture of model, which is used to train model\n",
        "    num_models_list -- a list contains the number of models which are integrated in one ensemble model\n",
        "    X_train -- data which are used to train the model\n",
        "    X_test -- data which are used to test the trained model\n",
        "    y_test -- true labels of X_test\n",
        "         \n",
        "  Returns: \n",
        "    ROC curve\n",
        "  \"\"\"\n",
        "\n",
        "  # list of auc score corresponding with the number of models integrated in an ensemble model\n",
        "  AUC_LIST = []\n",
        "\n",
        "  for i in num_models_list:\n",
        "    # Create a random list of seed\n",
        "    seed_list = np.random.randint(10, size=i).tolist()\n",
        "    # Get the auc_score of the ensemble model which is trained by using seed_list\n",
        "    auc_score, avg_preds = ensemble_model(model_architecture, seed_list, X_train, X_test, y_test, plot=False)\n",
        "    AUC_LIST.append(np.round(auc_score, 3))\n",
        "\n",
        "  # the plot display the correlation between auc score and the number of models integrated in an ensemble model\n",
        "  plt.plot(num_models_list, AUC_LIST, 'g')\n",
        "  plt.title('Correlation between AUC score and the number of autoencoders in an ensemble model')\n",
        "  plt.xlabel('the number of autoencoders in an ensemble model')\n",
        "  plt.ylabel('AUC score of ensembel models')\n",
        "  plt.show()\n"
      ],
      "metadata": {
        "id": "WZcHwJdHcyRj"
      },
      "execution_count": 31,
      "outputs": []
    },
    {
      "cell_type": "code",
      "source": [
        "np.random.seed(0)\n",
        "plot_auc_models(AutoencoderV2, [4, 6, 8, 10], X_train_scaled, X_test_scaled, y_test)"
      ],
      "metadata": {
        "colab": {
          "base_uri": "https://localhost:8080/",
          "height": 1000
        },
        "id": "QsScKbRyXHHf",
        "outputId": "64776e47-02c6-49b0-d392-344bdf80d991"
      },
      "execution_count": 32,
      "outputs": [
        {
          "output_type": "stream",
          "name": "stdout",
          "text": [
            "11/11 [==============================] - 0s 1ms/step\n",
            "11/11 [==============================] - 0s 1ms/step\n",
            "11/11 [==============================] - 0s 1ms/step\n",
            "11/11 [==============================] - 0s 3ms/step\n",
            "AUC score: 0.9654248450413223\n",
            "11/11 [==============================] - 0s 2ms/step\n",
            "11/11 [==============================] - 0s 1ms/step\n",
            "11/11 [==============================] - 0s 1ms/step\n",
            "11/11 [==============================] - 0s 1ms/step\n",
            "11/11 [==============================] - 0s 1ms/step\n",
            "11/11 [==============================] - 0s 2ms/step\n",
            "AUC score: 0.9654894111570248\n",
            "11/11 [==============================] - 0s 1ms/step\n",
            "11/11 [==============================] - 0s 1ms/step\n",
            "11/11 [==============================] - 0s 2ms/step\n",
            "11/11 [==============================] - 0s 2ms/step\n",
            "11/11 [==============================] - 1s 2ms/step\n",
            "11/11 [==============================] - 0s 1ms/step\n",
            "11/11 [==============================] - 0s 2ms/step\n",
            "11/11 [==============================] - 0s 1ms/step\n",
            "AUC score: 0.9656831095041322\n",
            "11/11 [==============================] - 0s 1ms/step\n",
            "11/11 [==============================] - 0s 1ms/step\n",
            "11/11 [==============================] - 0s 1ms/step\n",
            "11/11 [==============================] - 0s 1ms/step\n",
            "11/11 [==============================] - 0s 1ms/step\n",
            "11/11 [==============================] - 0s 1ms/step\n",
            "11/11 [==============================] - 0s 1ms/step\n",
            "11/11 [==============================] - 0s 1ms/step\n",
            "11/11 [==============================] - 0s 2ms/step\n",
            "11/11 [==============================] - 0s 1ms/step\n",
            "AUC score: 0.9640689566115702\n"
          ]
        },
        {
          "output_type": "display_data",
          "data": {
            "text/plain": [
              "<Figure size 640x480 with 1 Axes>"
            ],
            "image/png": "[encoded data removed]"
          },
          "metadata": {}
        }
      ]
    },
    {
      "cell_type": "code",
      "source": [],
      "metadata": {
        "id": "ylDxk-izivEq"
      },
      "execution_count": 26,
      "outputs": []
    },
    {
      "cell_type": "code",
      "source": [],
      "metadata": {
        "id": "4Wzdx4C9ivaQ"
      },
      "execution_count": 26,
      "outputs": []
    },
    {
      "cell_type": "markdown",
      "source": [
        "# All below stuffs are the old version"
      ],
      "metadata": {
        "id": "siEHlWH2dM0T"
      }
    },
    {
      "cell_type": "markdown",
      "source": [
        "# 4. Finding a threshold\n",
        "\n",
        "Figuring out a threshold which will be used to determine whether a prediction is normal or abnormal\n",
        "\n",
        "?? Finding more methods to determine a threshold"
      ],
      "metadata": {
        "id": "QYrDAWMiiHF-"
      }
    },
    {
      "cell_type": "code",
      "source": [
        "def get_threshold(model, X_train):\n",
        "  \"\"\"\n",
        "  Determine a threshold for anomalies\n",
        "  \n",
        "  Arguments:\n",
        "    model -- trained model\n",
        "    X_train -- input data which was used to train the model\n",
        "         \n",
        "  Returns: \n",
        "    threshold -- any mean square error value between (prediction and true value) bigger than threshold is anomalies\n",
        "  \"\"\"\n",
        "  # getting predictions (recontructions) of the input data\n",
        "  preds = model.predict(X_train)\n",
        "  # calculate the difference between predictions and input data using mean square error\n",
        "  pred_errors = tf.keras.losses.mse(preds, X_train)\n",
        "  # Calculate threshold for anomalies\n",
        "  threshold = np.mean(pred_errors.numpy()) + np.std(pred_errors.numpy()) \n",
        "  return threshold\n"
      ],
      "metadata": {
        "id": "EF584TWSh4WP"
      },
      "execution_count": 27,
      "outputs": []
    },
    {
      "cell_type": "markdown",
      "source": [
        "# 5. Classifying predictions into classes:\n",
        "\n",
        "* 0: normal sample\n",
        "* 1: anomaly\n"
      ],
      "metadata": {
        "id": "KriXv_ZenGOv"
      }
    },
    {
      "cell_type": "code",
      "source": [
        "def get_predictions(model, X_test, threshold):\n",
        "  \"\"\"\n",
        "  Get all predictions of samples\n",
        "  \n",
        "  Arguments:\n",
        "    model -- trained model\n",
        "    X_test -- samples, which should be predicted by the trained model\n",
        "    threshold -- value to determine a prediction is anomaly or not\n",
        "         \n",
        "  Returns: \n",
        "    y_preds -- predicted labels of each sample (0: normal, 1: abnormal)\n",
        "  \"\"\"\n",
        "  pred = model.predict(X_test)\n",
        "  pred_errors = tf.keras.losses.mse(pred, X_test)\n",
        "  y_preds = [0 if i < threshold else 1 for i in pred_errors]\n",
        "  return y_preds\n",
        "\n"
      ],
      "metadata": {
        "id": "29p-8jD3h4nF"
      },
      "execution_count": 28,
      "outputs": []
    },
    {
      "cell_type": "markdown",
      "source": [
        "# 6. Autoencoder Anomaly Detection Performance"
      ],
      "metadata": {
        "id": "Z9TlD8cmqZal"
      }
    },
    {
      "cell_type": "code",
      "source": [
        "threshold = get_threshold(autoencoder, X_train_scaled)\n",
        "print(f\"Thrshold: {threshold}\")\n",
        "\n",
        "# get predictions of X_test_scaled\n",
        "y_preds = get_predictions(autoencoder, X_test_scaled, threshold)\n",
        "\n",
        "# Check the prediction performance\n",
        "from sklearn.metrics import classification_report\n",
        "print(classification_report(y_test, y_preds))\n",
        "\n",
        "from sklearn.metrics import roc_auc_score\n",
        "auc_score = roc_auc_score(y_test, y_preds)\n",
        "print(f\"AUC: {auc_score}\")"
      ],
      "metadata": {
        "colab": {
          "base_uri": "https://localhost:8080/"
        },
        "id": "H4XqIUXyqcRF",
        "outputId": "4761e22b-502d-438e-9a52-40252f224244"
      },
      "execution_count": 29,
      "outputs": [
        {
          "output_type": "stream",
          "name": "stdout",
          "text": [
            "47/47 [==============================] - 0s 927us/step\n",
            "Thrshold: 0.029209767556762502\n",
            "11/11 [==============================] - 0s 1ms/step\n",
            "              precision    recall  f1-score   support\n",
            "\n",
            "           0       0.94      0.82      0.88       176\n",
            "           1       0.84      0.95      0.89       176\n",
            "\n",
            "    accuracy                           0.88       352\n",
            "   macro avg       0.89      0.88      0.88       352\n",
            "weighted avg       0.89      0.88      0.88       352\n",
            "\n",
            "AUC: 0.8835227272727271\n"
          ]
        }
      ]
    },
    {
      "cell_type": "code",
      "source": [
        "# the above code block can be write in a function\n",
        "def performance_old(model, X_train, X_test):\n",
        "  threshold = get_threshold(model, X_train)\n",
        "  print(f\"Threshold: {threshold}\")\n",
        "\n",
        "  # get predictions of X_test_scaled\n",
        "  y_preds = get_predictions(model, X_test, threshold)\n",
        "\n",
        "  # Check the prediction performance\n",
        "  print(classification_report(y_test, y_preds))\n",
        "  auc_score = roc_auc_score(y_test, y_preds)\n",
        "  print(f\"AUC: {auc_score}\")"
      ],
      "metadata": {
        "id": "o3evBjgiuAJi"
      },
      "execution_count": 30,
      "outputs": []
    }
  ]
}